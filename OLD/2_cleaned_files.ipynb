{
 "cells": [
  {
   "cell_type": "code",
   "execution_count": 1,
   "metadata": {},
   "outputs": [],
   "source": [
    "import pandas as pd\n"
   ]
  },
  {
   "cell_type": "code",
   "execution_count": 4,
   "metadata": {},
   "outputs": [
    {
     "data": {
      "text/plain": [
       "598"
      ]
     },
     "execution_count": 4,
     "metadata": {},
     "output_type": "execute_result"
    }
   ],
   "source": [
    "df = pd.read_csv('revolut_stealth_indicatorsNEW.csv')\n",
    "len(df)"
   ]
  },
  {
   "cell_type": "code",
   "execution_count": 5,
   "metadata": {},
   "outputs": [
    {
     "name": "stdout",
     "output_type": "stream",
     "text": [
      "Исключено ролей: 7\n",
      "Осталось профилей после фильтрации: 591\n"
     ]
    }
   ],
   "source": [
    "exclude_roles = [\" hr \", \"recruiter\", \"accountant\", \"legal\", \"lawyer\"]\n",
    "\n",
    "exclude_pattern = '|'.join(exclude_roles)  \n",
    "\n",
    "\n",
    "filtered_df = df[\n",
    "    ~df['sub_title'].str.contains(exclude_pattern, case=False, na=False)\n",
    "]\n",
    "\n",
    "filtered_count = len(filtered_df)\n",
    "\n",
    "print(f\"Исключено ролей: {len(df) - filtered_count}\")\n",
    "print(f\"Осталось профилей после фильтрации: {filtered_count}\")"
   ]
  },
  {
   "cell_type": "code",
   "execution_count": 6,
   "metadata": {},
   "outputs": [],
   "source": [
    "from openai import OpenAI\n",
    "from typing import Dict, Any\n",
    "import json\n",
    "import config\n",
    "\n",
    "client = OpenAI(api_key=config.OPENAI_API_KEY)\n",
    "\n",
    "def llm_classifier(sub_title: str, skills: str, model: str) -> Dict[str, Any]:\n",
    "\n",
    "    prompt = f\"\"\"\n",
    "                Analyze the LinkedIn profile data to detect stealth startups and founder roles. \n",
    "\n",
    "                **1. Stealth Startup Indicators**\n",
    "\n",
    "                a. Direct Evidence (any single mention is enough for `is_stealth = true`):\n",
    "                    - The word \"stealth\" (case-insensitive) in the title (e.g., \"Stealth Mode,\" \"Stealth Startup\")\n",
    "                    - Terms like \"undisclosed,\" \"pre-launch,\" \"unannounced,\" \"confidential,\" \"secret project\"\n",
    "                    - Phrases such as \"in stealth\" or \"in stealth mode\"\n",
    "\n",
    "                b. Indirect Evidence (requires two or more of these signs to set `is_stealth = true`):\n",
    "                    - No mention of a specific company or organization name (e.g., \"Working on AI project\" with no company name)\n",
    "                    - Vague/placeholder descriptions like \"New Venture,\" \"Project X,\" **\"Building something new,\" \"building the future,\"** \n",
    "                        \"TBA/TBD project,\" \"stay tuned,\" \"unannounced product,\" or any synonyms that imply a mysterious or unrevealed project\n",
    "                    - Very general claims with no real details (e.g., \"Building something revolutionary,\" \"Working on a big idea,\" \n",
    "                        \"Something exciting coming soon,\" etc.)\n",
    "                    - References to \"hot\" technologies (AI, Blockchain, Web3, Crypto, Quantum, etc.) **without** any concrete context \n",
    "                        or company details (indicating a possible stealth R&D effort)\n",
    "\n",
    "                > **Note**: The model should interpret synonyms of these phrases that indicate a new or not-yet-disclosed project \n",
    "                > as potential stealth signals (e.g., \"creating the future,\" \"developing something undisclosed,\" \n",
    "                > \"launching soon,\" etc.).\n",
    "\n",
    "                **2. Founder Role Indicators** \n",
    "                - The following **explicit** words/phrases in the title → `is_founder = true`:\n",
    "                    - \"Founder,\" \"Co-founder,\" \"Owner\"\n",
    "                    - \"Founding [Role]\" (e.g., \"Founding Engineer\")\n",
    "                    - References like \"Built from scratch,\" \"0 to 1,\" \"my startup\"\n",
    "                - Exclusions (do not count as founder):\n",
    "                    - \"Ex-founder,\" \"Former founder\"\n",
    "                    - \"Advisor to startups,\" \"Startup consultant,\" etc. (an advisory or third-party role, not an active founding member)\n",
    "\n",
    "                **3. Input Data**:\n",
    "                - `Current Position`: {sub_title}\n",
    "                - `Skills`: {skills}\n",
    "\n",
    "                **4. Output**:\n",
    "                Return a concise JSON with the following structure:\n",
    "                ```json\n",
    "                {{\n",
    "                    \"is_stealth\": true or false,\n",
    "                    \"is_founder\": true or false,\n",
    "                    \"reason\": \"short explanation, e.g. 'Stealth in title' or 'No company + vague project'\"\n",
    "                }}\n",
    "                ```\n",
    "            \"\"\"\n",
    "    \n",
    "    try:\n",
    "        response = client.chat.completions.create(\n",
    "            model=model,\n",
    "            messages=[\n",
    "                {\"role\": \"system\", \"content\": \"Analyze LinkedIn profiles to identify stealth startups and founder roles.\"},\n",
    "                {\"role\": \"user\", \"content\": prompt}\n",
    "            ],\n",
    "            temperature=0.3,\n",
    "            max_tokens=100,\n",
    "            response_format={\"type\": \"json_object\"}  \n",
    "        )\n",
    "        \n",
    "        result = json.loads(response.choices[0].message.content)\n",
    "        return result\n",
    "        \n",
    "    except Exception as e:\n",
    "        print(f\"Ошибка при запросе к OpenAI: {e}\")\n",
    "        return {\n",
    "            \"is_stealth\": False,\n",
    "            \"is_founder\": False,\n",
    "            \"reason\": \"API Error\"\n",
    "        }"
   ]
  },
  {
   "cell_type": "code",
   "execution_count": 8,
   "metadata": {},
   "outputs": [],
   "source": [
    "df['is_stealth'] = False  \n",
    "df['is_founder'] = False  \n",
    "df['stealth_reason'] = \"\" "
   ]
  },
  {
   "cell_type": "code",
   "execution_count": 9,
   "metadata": {},
   "outputs": [
    {
     "name": "stderr",
     "output_type": "stream",
     "text": [
      "Обработка профилей: 100%|██████████| 598/598 [11:55<00:00,  1.20s/it]\n"
     ]
    }
   ],
   "source": [
    "from tqdm import tqdm\n",
    "\n",
    "for idx, row in tqdm(df.iterrows(), total=len(df), desc=\"Обработка профилей\"):\n",
    "    try:\n",
    "        result = llm_classifier(row['sub_title'], row['skills'], config.gpt_4o)\n",
    "    except Exception as e:\n",
    "        print(f\"Ошибка при запросе к OpenAI: {e}\")\n",
    "        result = {\n",
    "            \"is_stealth\": False,\n",
    "            \"is_founder\": False,\n",
    "            \"reason\": \"API Error\"\n",
    "        }\n",
    "    \n",
    "    # Записываем результаты в DataFrame\n",
    "    df.at[idx, 'is_stealth'] = result['is_stealth']\n",
    "    df.at[idx, 'is_founder'] = result['is_founder']\n",
    "    df.at[idx, 'stealth_reason'] = result['reason']"
   ]
  },
  {
   "cell_type": "code",
   "execution_count": 20,
   "metadata": {},
   "outputs": [],
   "source": [
    "# Фильтруем DataFrame, чтобы получить только строки с is_stealth == True и выбираем столбец sub_title\n",
    "to_check = df[['is_stealth', 'sub_title', 'li_url']]\n",
    "\n",
    "# Сохраняем результат в CSV файл\n",
    "to_check.to_csv('to_check.csv', index=False)"
   ]
  },
  {
   "cell_type": "code",
   "execution_count": 21,
   "metadata": {},
   "outputs": [],
   "source": [
    "stealth_df = df[df['is_stealth'] == True]"
   ]
  },
  {
   "cell_type": "code",
   "execution_count": 23,
   "metadata": {},
   "outputs": [],
   "source": [
    "stealth_founder = pd.read_csv('founders_in_stealth_companies.csv')"
   ]
  },
  {
   "cell_type": "code",
   "execution_count": 28,
   "metadata": {},
   "outputs": [
    {
     "name": "stdout",
     "output_type": "stream",
     "text": [
      "Количество новых профилей для проверки: 16\n"
     ]
    }
   ],
   "source": [
    "founder_ids = set(stealth_founder['profile_id'])\n",
    "new_ids = set(stealth_df['profile_id'])\n",
    "\n",
    "unique_new_ids = new_ids - founder_ids\n",
    "\n",
    "profiles_to_check = stealth_df[stealth_df['profile_id'].isin(unique_new_ids)]\n",
    "\n",
    "print(f\"Количество новых профилей для проверки: {len(profiles_to_check)}\")\n"
   ]
  },
  {
   "cell_type": "code",
   "execution_count": 30,
   "metadata": {},
   "outputs": [],
   "source": [
    "def company_name_classifier(sub_title: str, model: str) -> Dict[str, Any]:\n",
    "\n",
    "    prompt = f\"\"\"\n",
    "                Analyze the LinkedIn profile title and determine if it contains a CURRENT company name (True/False).\n",
    "\n",
    "                Rules for identifying current company names:\n",
    "                1. Company name should be a specific organization name, not an industry or activity description\n",
    "                2. Current company names often appear after \"@\", \"at\", \"in\", or similar prepositions\n",
    "                3. If all companies are prefixed with \"ex-\", \"former\", or similar, then there is no current company\n",
    "                4. Generic descriptions like \"stealth\", \"new venture\", \"something new\", \"crypto project\" are NOT company names\n",
    "                5. The company name should be for current employment (not past)\n",
    "\n",
    "                Examples:\n",
    "\n",
    "                FALSE cases (no current company mentioned):\n",
    "                - \"Building something new | ex-Google\" (only past company)\n",
    "                - \"Something new coming soon\" (no company name)\n",
    "                - \"Building something new | ex-Revolut, Lyft, YC S20\" (only past companies)\n",
    "                - \"Building something new | Z-Fellow | ex-Yahoo, ex-Revolut\" (no current company)\n",
    "                - \"Something New in Crypto (Ex.Revolut, Goldman Sachs)\" (industry mention, not company name)\n",
    "                - \"Founder & CEO of Stealth Startup\" (generic, not a specific company)\n",
    "                - \"Building the future of fintech\" (activity description, not company)\n",
    "                - \"Entrepreneur in Residence\" (role without company)\n",
    "\n",
    "                TRUE cases (current company mentioned):\n",
    "                - \"Senior Product Manager @ KOMI | ex-Spotify & Revolut\" (KOMI is current)\n",
    "                - \"Chief of Staff @ Simple App | ex-Revolut\" (Simple App is current)\n",
    "                - \"Engineering Lead at Monzo Bank\" (Monzo Bank is current)\n",
    "                - \"Product Manager @ N26 | Previously Revolut\" (N26 is current)\n",
    "                - \"CEO of TechCorp | ex-Google\" (TechCorp is current)\n",
    "\n",
    "                Input title: \"{sub_title}\"\n",
    "\n",
    "                Return JSON format:\n",
    "                {{\n",
    "                    \"has_current_company\": boolean,\n",
    "                    \"reason\": \"explanation of decision in 5-6 words\"\n",
    "                }}\n",
    "                \"\"\"\n",
    "    \n",
    "    try:\n",
    "        response = client.chat.completions.create(\n",
    "            model=model,\n",
    "            messages=[\n",
    "                {\"role\": \"system\", \"content\": \"Analyze LinkedIn profiles to identify is there current company name or not.\"},\n",
    "                {\"role\": \"user\", \"content\": prompt}\n",
    "            ],\n",
    "            temperature=0.3,\n",
    "            max_tokens=100,\n",
    "            response_format={\"type\": \"json_object\"}  \n",
    "        )\n",
    "        \n",
    "        result = json.loads(response.choices[0].message.content)\n",
    "        return result\n",
    "        \n",
    "    except Exception as e:\n",
    "        print(f\"Ошибка при запросе к OpenAI: {e}\")\n",
    "        return {\n",
    "            \"has_current_company\": False,\n",
    "            \"reason\": \"API Error\"\n",
    "        }"
   ]
  },
  {
   "cell_type": "code",
   "execution_count": 31,
   "metadata": {},
   "outputs": [
    {
     "name": "stderr",
     "output_type": "stream",
     "text": [
      "/tmp/ipykernel_90163/788166991.py:1: SettingWithCopyWarning: \n",
      "A value is trying to be set on a copy of a slice from a DataFrame.\n",
      "Try using .loc[row_indexer,col_indexer] = value instead\n",
      "\n",
      "See the caveats in the documentation: https://pandas.pydata.org/pandas-docs/stable/user_guide/indexing.html#returning-a-view-versus-a-copy\n",
      "  profiles_to_check['has_current_company'] = False\n",
      "/tmp/ipykernel_90163/788166991.py:2: SettingWithCopyWarning: \n",
      "A value is trying to be set on a copy of a slice from a DataFrame.\n",
      "Try using .loc[row_indexer,col_indexer] = value instead\n",
      "\n",
      "See the caveats in the documentation: https://pandas.pydata.org/pandas-docs/stable/user_guide/indexing.html#returning-a-view-versus-a-copy\n",
      "  profiles_to_check['current_company_reason'] = \"\"\n",
      "Анализ профилей: 100%|██████████| 16/16 [00:15<00:00,  1.05it/s]\n"
     ]
    }
   ],
   "source": [
    "profiles_to_check['has_current_company'] = False\n",
    "profiles_to_check['current_company_reason'] = \"\"\n",
    "\n",
    "# Используем tqdm для отображения прогресса\n",
    "for idx, row in tqdm(profiles_to_check.iterrows(), total=len(profiles_to_check), desc=\"Анализ профилей\"):\n",
    "    try:\n",
    "        result = company_name_classifier(row['sub_title'], config.gpt_4o)\n",
    "        \n",
    "        # Записываем результаты в DataFrame\n",
    "        profiles_to_check.at[idx, 'has_current_company'] = result['has_current_company']\n",
    "        profiles_to_check.at[idx, 'current_company_reason'] = result['reason']\n",
    "        \n",
    "    except Exception as e:\n",
    "        print(f\"Ошибка при обработке строки {idx}: {e}\")\n",
    "        profiles_to_check.at[idx, 'current_company_reason'] = f\"Error: {str(e)}\""
   ]
  },
  {
   "cell_type": "code",
   "execution_count": 34,
   "metadata": {},
   "outputs": [
    {
     "data": {
      "text/plain": [
       "has_current_company\n",
       "False    14\n",
       "True      2\n",
       "Name: count, dtype: int64"
      ]
     },
     "execution_count": 34,
     "metadata": {},
     "output_type": "execute_result"
    }
   ],
   "source": [
    "profiles_to_check.value_counts('has_current_company')"
   ]
  },
  {
   "cell_type": "code",
   "execution_count": 35,
   "metadata": {},
   "outputs": [],
   "source": [
    "df_tu_final_classification = profiles_to_check[profiles_to_check['has_current_company'] == False]"
   ]
  },
  {
   "cell_type": "code",
   "execution_count": 48,
   "metadata": {},
   "outputs": [
    {
     "name": "stderr",
     "output_type": "stream",
     "text": [
      "Обработка профилей:  36%|███▌      | 5/14 [00:07<00:14,  1.63s/it]"
     ]
    },
    {
     "name": "stdout",
     "output_type": "stream",
     "text": [
      "Ошибка API для david-kfm: 404\n"
     ]
    },
    {
     "name": "stderr",
     "output_type": "stream",
     "text": [
      "Обработка профилей: 100%|██████████| 14/14 [00:22<00:00,  1.58s/it]"
     ]
    },
    {
     "name": "stdout",
     "output_type": "stream",
     "text": [
      "\n",
      "Данные сохранены в 'profiles_with_current_positions.csv'\n"
     ]
    },
    {
     "name": "stderr",
     "output_type": "stream",
     "text": [
      "\n"
     ]
    }
   ],
   "source": [
    "import requests\n",
    "import json\n",
    "import pandas as pd\n",
    "from tqdm import tqdm\n",
    "import os\n",
    "from typing import Dict, Any\n",
    "import time\n",
    "\n",
    "def format_date(date_dict: Dict) -> str:\n",
    "    if not date_dict or not date_dict.get('year'):\n",
    "        return None\n",
    "    \n",
    "    month = str(date_dict.get('month', 1)).zfill(2)\n",
    "    year = str(date_dict['year'])\n",
    "    return f\"{year}-{month}\"\n",
    "\n",
    "def extract_profile_info(json_data: Dict) -> Dict[str, Any]:\n",
    "    try:\n",
    "        profile_info = {\n",
    "            'api_sub_title': json_data['sub_title'],\n",
    "            'current_position': None\n",
    "        }\n",
    "        \n",
    "        if 'position_groups' in json_data and json_data['position_groups']:\n",
    "            current_group = json_data['position_groups'][0]\n",
    "            if current_group['profile_positions']:\n",
    "                current_position = current_group['profile_positions'][0]\n",
    "                profile_info['current_position'] = {\n",
    "                    'company': current_group['company']['name'],\n",
    "                    'title': current_position['title'],\n",
    "                    'start_date': format_date(current_position['date']['start']),\n",
    "                    'end_date': format_date(current_position['date']['end']),\n",
    "                    'employment_type': current_position['employment_type'],\n",
    "                    'location': current_position.get('location', 'N/A')\n",
    "                }\n",
    "        \n",
    "        return profile_info\n",
    "    \n",
    "    except Exception as e:\n",
    "        print(f\"Ошибка при обработке данных: {str(e)}\")\n",
    "        return None\n",
    "\n",
    "def process_profiles(df_input: pd.DataFrame):\n",
    "    os.makedirs('final_request_to_api', exist_ok=True)\n",
    "    \n",
    "    new_data = []\n",
    "    \n",
    "    \n",
    "    url = \"https://api.proapis.com/iscraper/v4/profile-details\"\n",
    "    headers = {\n",
    "        \"Content-Type\": \"application/json\",\n",
    "        \"X-Api-Key\": config.PRO_API_KEY\n",
    "    }\n",
    "    \n",
    "    \n",
    "    for _, row in tqdm(df_input.iterrows(), total=len(df_input), desc=\"Обработка профилей\"):\n",
    "        try:\n",
    "            \n",
    "            payload = {\"profile_id\": row['profile_id']}\n",
    "            response = requests.post(url, headers=headers, json=payload)\n",
    "            \n",
    "            if response.status_code == 200:\n",
    "                json_data = response.json()\n",
    "                json_file_path = f\"final_request_to_api/{row['profile_id']}.json\"\n",
    "                with open(json_file_path, 'w', encoding='utf-8') as f:\n",
    "                    json.dump(json_data, f, indent=4, ensure_ascii=False)\n",
    "                \n",
    "                profile_info = extract_profile_info(json_data)\n",
    "                \n",
    "                if profile_info:\n",
    "                    profile_data = {\n",
    "                        'profile_id': row['profile_id'],\n",
    "                        'first_name': row['first_name'],\n",
    "                        'last_name': row['last_name'],\n",
    "                        'linkedin_sub_title': row['sub_title'],\n",
    "                        'li_url': row['li_url'],\n",
    "                        'api_sub_title': profile_info['api_sub_title']\n",
    "                    }\n",
    "                    \n",
    "                    if profile_info['current_position']:\n",
    "                        current = profile_info['current_position']\n",
    "                        profile_data.update({\n",
    "                            'current_company': current['company'],\n",
    "                            'current_title': current['title'],\n",
    "                            'start_date': current['start_date'],\n",
    "                            'end_date': current['end_date'],\n",
    "                            'employment_type': current['employment_type'],\n",
    "                            'location': current['location']\n",
    "                        })\n",
    "                    else:\n",
    "                        profile_data.update({\n",
    "                            'current_company': None,\n",
    "                            'current_title': None,\n",
    "                            'start_date': None,\n",
    "                            'end_date': None,\n",
    "                            'employment_type': None,\n",
    "                            'location': None\n",
    "                        })\n",
    "                    \n",
    "                    new_data.append(profile_data)\n",
    "            \n",
    "            else:\n",
    "                print(f\"Ошибка API для {row['profile_id']}: {response.status_code}\")\n",
    "            \n",
    "            time.sleep(1)\n",
    "            \n",
    "        except Exception as e:\n",
    "            print(f\"Ошибка при обработке профиля {row['profile_id']}: {str(e)}\")\n",
    "    \n",
    "    new_df = pd.DataFrame(new_data)\n",
    "    new_df.to_csv('profiles_with_current_positions.csv', index=False)\n",
    "    print(\"\\nДанные сохранены в 'profiles_with_current_positions.csv'\")\n",
    "    \n",
    "    return new_df\n",
    "\n",
    "result_df = process_profiles(df_tu_final_classification)"
   ]
  },
  {
   "cell_type": "code",
   "execution_count": 50,
   "metadata": {},
   "outputs": [
    {
     "data": {
      "text/html": [
       "<div>\n",
       "<style scoped>\n",
       "    .dataframe tbody tr th:only-of-type {\n",
       "        vertical-align: middle;\n",
       "    }\n",
       "\n",
       "    .dataframe tbody tr th {\n",
       "        vertical-align: top;\n",
       "    }\n",
       "\n",
       "    .dataframe thead th {\n",
       "        text-align: right;\n",
       "    }\n",
       "</style>\n",
       "<table border=\"1\" class=\"dataframe\">\n",
       "  <thead>\n",
       "    <tr style=\"text-align: right;\">\n",
       "      <th></th>\n",
       "      <th>profile_id</th>\n",
       "      <th>first_name</th>\n",
       "      <th>last_name</th>\n",
       "      <th>linkedin_sub_title</th>\n",
       "      <th>li_url</th>\n",
       "      <th>api_sub_title</th>\n",
       "      <th>current_company</th>\n",
       "      <th>current_title</th>\n",
       "      <th>start_date</th>\n",
       "      <th>end_date</th>\n",
       "      <th>employment_type</th>\n",
       "      <th>location</th>\n",
       "    </tr>\n",
       "  </thead>\n",
       "  <tbody>\n",
       "    <tr>\n",
       "      <th>1</th>\n",
       "      <td>mariozaharioudakis</td>\n",
       "      <td>Mario</td>\n",
       "      <td>Z.</td>\n",
       "      <td>Working on something 👌</td>\n",
       "      <td>https://www.linkedin.com/in/mariozaharioudakis/</td>\n",
       "      <td>Working on something 👌</td>\n",
       "      <td>Revolut</td>\n",
       "      <td>CEO Office - Founder’s Associate</td>\n",
       "      <td>2021-None</td>\n",
       "      <td>2023-None</td>\n",
       "      <td>Full-time</td>\n",
       "      <td>New York, New York, United States</td>\n",
       "    </tr>\n",
       "    <tr>\n",
       "      <th>9</th>\n",
       "      <td>carl-fernandes-a738296a</td>\n",
       "      <td>Carl</td>\n",
       "      <td>Fernandes</td>\n",
       "      <td>Building something new | ex-Revolut, Lyft, YC S20</td>\n",
       "      <td>https://www.linkedin.com/in/carl-fernandes-a73...</td>\n",
       "      <td>Building something new | ex-Revolut, Lyft, YC S20</td>\n",
       "      <td>Revolut</td>\n",
       "      <td>Head of Product, Insurance</td>\n",
       "      <td>2022-03</td>\n",
       "      <td>2024-03</td>\n",
       "      <td>Full-time</td>\n",
       "      <td>Boston, Massachusetts, United States</td>\n",
       "    </tr>\n",
       "  </tbody>\n",
       "</table>\n",
       "</div>"
      ],
      "text/plain": [
       "                profile_id first_name  last_name  \\\n",
       "1       mariozaharioudakis      Mario         Z.   \n",
       "9  carl-fernandes-a738296a       Carl  Fernandes   \n",
       "\n",
       "                                  linkedin_sub_title  \\\n",
       "1                            Working on something 👌    \n",
       "9  Building something new | ex-Revolut, Lyft, YC S20   \n",
       "\n",
       "                                              li_url  \\\n",
       "1    https://www.linkedin.com/in/mariozaharioudakis/   \n",
       "9  https://www.linkedin.com/in/carl-fernandes-a73...   \n",
       "\n",
       "                                       api_sub_title current_company  \\\n",
       "1                            Working on something 👌          Revolut   \n",
       "9  Building something new | ex-Revolut, Lyft, YC S20         Revolut   \n",
       "\n",
       "                      current_title start_date   end_date employment_type  \\\n",
       "1  CEO Office - Founder’s Associate  2021-None  2023-None       Full-time   \n",
       "9        Head of Product, Insurance    2022-03    2024-03       Full-time   \n",
       "\n",
       "                               location  \n",
       "1     New York, New York, United States  \n",
       "9  Boston, Massachusetts, United States  "
      ]
     },
     "execution_count": 50,
     "metadata": {},
     "output_type": "execute_result"
    }
   ],
   "source": [
    "rows_to_add = []\n",
    "\n",
    "for idx, row in result_df.iterrows():\n",
    "    try:\n",
    "        if 'stealth' in row['current_company'].lower():\n",
    "            rows_to_add.append(row)\n",
    "        elif 'revolut' in row['current_company'].lower() and row['end_date'] != None:\n",
    "            rows_to_add.append(row)\n",
    "    except:\n",
    "        pass\n",
    "\n",
    "df_stealth_companies = pd.DataFrame(rows_to_add)\n",
    "df_stealth_companies"
   ]
  },
  {
   "cell_type": "code",
   "execution_count": 51,
   "metadata": {},
   "outputs": [
    {
     "name": "stdout",
     "output_type": "stream",
     "text": [
      "https://www.linkedin.com/in/mariozaharioudakis/\n",
      "https://www.linkedin.com/in/carl-fernandes-a738296a/\n"
     ]
    }
   ],
   "source": [
    "for li_url in df_stealth_companies['li_url']:\n",
    "    print(li_url)"
   ]
  },
  {
   "cell_type": "code",
   "execution_count": 53,
   "metadata": {},
   "outputs": [
    {
     "data": {
      "text/plain": [
       "19"
      ]
     },
     "execution_count": 53,
     "metadata": {},
     "output_type": "execute_result"
    }
   ],
   "source": [
    "fdf = pd.read_csv('founders_in_stealth_companies.csv')\n",
    "len(fdf)"
   ]
  },
  {
   "cell_type": "code",
   "execution_count": 60,
   "metadata": {},
   "outputs": [],
   "source": [
    "fdf['end_date'] = None"
   ]
  },
  {
   "cell_type": "code",
   "execution_count": 62,
   "metadata": {},
   "outputs": [],
   "source": [
    "df_combined = pd.concat([fdf, df_stealth_companies], ignore_index=True)"
   ]
  },
  {
   "cell_type": "code",
   "execution_count": 64,
   "metadata": {},
   "outputs": [
    {
     "data": {
      "text/plain": [
       "Index(['profile_id', 'first_name', 'last_name', 'linkedin_sub_title', 'li_url',\n",
       "       'api_sub_title', 'current_company', 'current_title', 'start_date',\n",
       "       'employment_type', 'location', 'end_date'],\n",
       "      dtype='object')"
      ]
     },
     "execution_count": 64,
     "metadata": {},
     "output_type": "execute_result"
    }
   ],
   "source": [
    "df_combined.columns"
   ]
  },
  {
   "cell_type": "code",
   "execution_count": 65,
   "metadata": {},
   "outputs": [],
   "source": [
    "df_combined = df_combined[['first_name', 'last_name', 'linkedin_sub_title', 'li_url']]"
   ]
  },
  {
   "cell_type": "code",
   "execution_count": 69,
   "metadata": {},
   "outputs": [],
   "source": [
    "df_combined.to_csv('founders_in_stealth_companies_final.csv', index=False)"
   ]
  },
  {
   "cell_type": "code",
   "execution_count": null,
   "metadata": {},
   "outputs": [],
   "source": []
  }
 ],
 "metadata": {
  "kernelspec": {
   "display_name": "venv",
   "language": "python",
   "name": "python3"
  },
  "language_info": {
   "codemirror_mode": {
    "name": "ipython",
    "version": 3
   },
   "file_extension": ".py",
   "mimetype": "text/x-python",
   "name": "python",
   "nbconvert_exporter": "python",
   "pygments_lexer": "ipython3",
   "version": "3.11.7"
  }
 },
 "nbformat": 4,
 "nbformat_minor": 2
}
