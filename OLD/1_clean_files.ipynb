{
 "cells": [
  {
   "cell_type": "code",
   "execution_count": 26,
   "metadata": {},
   "outputs": [],
   "source": [
    "import pandas as pd"
   ]
  },
  {
   "cell_type": "code",
   "execution_count": 27,
   "metadata": {},
   "outputs": [],
   "source": [
    "# Список CSV-файлов для объединения\n",
    "csv_files = [\n",
    "    \"revolut_past_key_roles.csv\",\n",
    "    \"revolut_current_founders.csv\",\n",
    "    \"revolut_stealth_indicators.csv\"\n",
    "]\n",
    "\n",
    "combined_df = pd.DataFrame()\n",
    "\n",
    "for file in csv_files:\n",
    "    df = pd.read_csv(file)\n",
    "    combined_df = pd.concat([combined_df, df], ignore_index=True)\n",
    "\n",
    "\n",
    "\n",
    "\n"
   ]
  },
  {
   "cell_type": "code",
   "execution_count": 28,
   "metadata": {},
   "outputs": [
    {
     "data": {
      "text/plain": [
       "410"
      ]
     },
     "execution_count": 28,
     "metadata": {},
     "output_type": "execute_result"
    }
   ],
   "source": [
    "combined_df = combined_df.drop_duplicates(subset='profile_id')\n",
    "len(combined_df)\n"
   ]
  },
  {
   "cell_type": "code",
   "execution_count": 29,
   "metadata": {},
   "outputs": [
    {
     "data": {
      "text/plain": [
       "Index(['profile_id', 'first_name', 'last_name', 'sub_title', 'location_city',\n",
       "       'location_country', 'li_url', 'skills', 'query_type'],\n",
       "      dtype='object')"
      ]
     },
     "execution_count": 29,
     "metadata": {},
     "output_type": "execute_result"
    }
   ],
   "source": [
    "combined_df.columns"
   ]
  },
  {
   "cell_type": "code",
   "execution_count": 30,
   "metadata": {},
   "outputs": [
    {
     "data": {
      "text/plain": [
       "profile_id            0\n",
       "first_name            0\n",
       "last_name             0\n",
       "sub_title             0\n",
       "location_city       142\n",
       "location_country     85\n",
       "li_url                0\n",
       "skills               23\n",
       "query_type            0\n",
       "dtype: int64"
      ]
     },
     "execution_count": 30,
     "metadata": {},
     "output_type": "execute_result"
    }
   ],
   "source": [
    "combined_df.isnull().sum()"
   ]
  },
  {
   "cell_type": "code",
   "execution_count": 82,
   "metadata": {},
   "outputs": [
    {
     "name": "stdout",
     "output_type": "stream",
     "text": [
      "co-Founder @ Nobly (acquired by Revolut), founder @ Stealth\n",
      "Risk Management Expert @ Stealth Startup | CFE\n",
      "Head of Sales Enablement EMEA/APACx at Stealth Mode Startup\n",
      "Founding Software Engineer at Stealth startup, ex-Revolut, ex-Yandex\n",
      "Stealth in Saudi Arabia | Building digital banks & start ups 🚀 | Ex Wio-Bank, Ex-Revolut\n"
     ]
    }
   ],
   "source": [
    "counterS = 0\n",
    "for row in combined_df.iterrows():\n",
    "    if 'stealth' in row[1]['sub_title'].lower():\n",
    "        print(row[1]['sub_title'])\n",
    "        counterS += 1\n",
    "\n"
   ]
  },
  {
   "cell_type": "code",
   "execution_count": 83,
   "metadata": {},
   "outputs": [
    {
     "data": {
      "text/plain": [
       "5"
      ]
     },
     "execution_count": 83,
     "metadata": {},
     "output_type": "execute_result"
    }
   ],
   "source": [
    "counterS"
   ]
  },
  {
   "cell_type": "code",
   "execution_count": 33,
   "metadata": {},
   "outputs": [
    {
     "name": "stdout",
     "output_type": "stream",
     "text": [
      "profile_id 0208allenlee\n",
      "first_name Allen\n",
      "last_name L.\n",
      "sub_title Product & Growth Exec | Startup Advisor & Investor\n",
      "location_city nan\n",
      "location_country nan\n",
      "li_url https://www.linkedin.com/in/0208allenlee/\n",
      "skills Growth, Product, Analytics, Growth Marketing, Product Marketing, Brand Marketing, Partnerships, Business Development, International Expansion, Risk Management, Project Management, Operations, Strategy, Start-ups, Angel Investing\n",
      "query_type past_roles\n"
     ]
    }
   ],
   "source": [
    "for row in combined_df.iterrows():\n",
    "    for col in row[1].index:\n",
    "        print(col, row[1][col])\n",
    "    break"
   ]
  },
  {
   "cell_type": "markdown",
   "metadata": {},
   "source": [
    "# удалю людей у которых роль точно не подойтдет"
   ]
  },
  {
   "cell_type": "code",
   "execution_count": 35,
   "metadata": {},
   "outputs": [
    {
     "name": "stdout",
     "output_type": "stream",
     "text": [
      "Исключено ролей: 4\n",
      "Осталось профилей после фильтрации: 406\n"
     ]
    }
   ],
   "source": [
    "exclude_roles = [\" hr \", \"recruiter\", \"accountant\", \"legal\", \"lawyer\"]\n",
    "\n",
    "exclude_pattern = '|'.join(exclude_roles)  \n",
    "\n",
    "\n",
    "filtered_df = combined_df[\n",
    "    ~combined_df['sub_title'].str.contains(exclude_pattern, case=False, na=False)\n",
    "]\n",
    "\n",
    "filtered_count = len(filtered_df)\n",
    "\n",
    "print(f\"Исключено ролей: {len(combined_df) - filtered_count}\")\n",
    "print(f\"Осталось профилей после фильтрации: {filtered_count}\")"
   ]
  },
  {
   "cell_type": "code",
   "execution_count": 36,
   "metadata": {},
   "outputs": [],
   "source": [
    "filtered_df.to_csv('filtered_df.csv', index=False)"
   ]
  },
  {
   "cell_type": "code",
   "execution_count": 37,
   "metadata": {},
   "outputs": [
    {
     "data": {
      "text/plain": [
       "Index(['profile_id', 'first_name', 'last_name', 'sub_title', 'location_city',\n",
       "       'location_country', 'li_url', 'skills', 'query_type'],\n",
       "      dtype='object')"
      ]
     },
     "execution_count": 37,
     "metadata": {},
     "output_type": "execute_result"
    }
   ],
   "source": [
    "df = pd.read_csv('filtered_df.csv')\n",
    "df.columns\n"
   ]
  },
  {
   "cell_type": "code",
   "execution_count": 67,
   "metadata": {},
   "outputs": [],
   "source": [
    "from openai import OpenAI\n",
    "from typing import Dict, Any\n",
    "import json\n",
    "import config\n",
    "\n",
    "client = OpenAI(api_key=config.OPENAI_API_KEY)\n",
    "\n",
    "def llm_classifier(sub_title: str, skills: str, model: str) -> Dict[str, Any]:\n",
    "\n",
    "    prompt = f\"\"\"\n",
    "                Analyze the LinkedIn profile data to detect stealth startups and founder roles. \n",
    "\n",
    "                **1. Stealth Startup Indicators**\n",
    "\n",
    "                a. Direct Evidence (any single mention is enough for `is_stealth = true`):\n",
    "                    - The word \"stealth\" (case-insensitive) in the title (e.g., \"Stealth Mode,\" \"Stealth Startup\")\n",
    "                    - Terms like \"undisclosed,\" \"pre-launch,\" \"unannounced,\" \"confidential,\" \"secret project\"\n",
    "                    - Phrases such as \"in stealth\" or \"in stealth mode\"\n",
    "\n",
    "                b. Indirect Evidence (requires two or more of these signs to set `is_stealth = true`):\n",
    "                    - No mention of a specific company or organization name (e.g., \"Working on AI project\" with no company name)\n",
    "                    - Vague/placeholder descriptions like \"New Venture,\" \"Project X,\" **\"Building something new,\" \"building the future,\"** \n",
    "                        \"TBA/TBD project,\" \"stay tuned,\" \"unannounced product,\" or any synonyms that imply a mysterious or unrevealed project\n",
    "                    - Very general claims with no real details (e.g., \"Building something revolutionary,\" \"Working on a big idea,\" \n",
    "                        \"Something exciting coming soon,\" etc.)\n",
    "                    - References to \"hot\" technologies (AI, Blockchain, Web3, Crypto, Quantum, etc.) **without** any concrete context \n",
    "                        or company details (indicating a possible stealth R&D effort)\n",
    "\n",
    "                > **Note**: The model should interpret synonyms of these phrases that indicate a new or not-yet-disclosed project \n",
    "                > as potential stealth signals (e.g., \"creating the future,\" \"developing something undisclosed,\" \n",
    "                > \"launching soon,\" etc.).\n",
    "\n",
    "                **2. Founder Role Indicators** \n",
    "                - The following **explicit** words/phrases in the title → `is_founder = true`:\n",
    "                    - \"Founder,\" \"Co-founder,\" \"Owner\"\n",
    "                    - \"Founding [Role]\" (e.g., \"Founding Engineer\")\n",
    "                    - References like \"Built from scratch,\" \"0 to 1,\" \"my startup\"\n",
    "                - Exclusions (do not count as founder):\n",
    "                    - \"Ex-founder,\" \"Former founder\"\n",
    "                    - \"Advisor to startups,\" \"Startup consultant,\" etc. (an advisory or third-party role, not an active founding member)\n",
    "\n",
    "                **3. Input Data**:\n",
    "                - `Current Position`: {sub_title}\n",
    "                - `Skills`: {skills}\n",
    "\n",
    "                **4. Output**:\n",
    "                Return a concise JSON with the following structure:\n",
    "                ```json\n",
    "                {{\n",
    "                    \"is_stealth\": true or false,\n",
    "                    \"is_founder\": true or false,\n",
    "                    \"reason\": \"short explanation, e.g. 'Stealth in title' or 'No company + vague project'\"\n",
    "                }}\n",
    "                ```\n",
    "            \"\"\"\n",
    "    \n",
    "    try:\n",
    "        response = client.chat.completions.create(\n",
    "            model=model,\n",
    "            messages=[\n",
    "                {\"role\": \"system\", \"content\": \"Analyze LinkedIn profiles to identify stealth startups and founder roles.\"},\n",
    "                {\"role\": \"user\", \"content\": prompt}\n",
    "            ],\n",
    "            temperature=0.3,\n",
    "            max_tokens=100,\n",
    "            response_format={\"type\": \"json_object\"}  \n",
    "        )\n",
    "        \n",
    "        result = json.loads(response.choices[0].message.content)\n",
    "        return result\n",
    "        \n",
    "    except Exception as e:\n",
    "        print(f\"Ошибка при запросе к OpenAI: {e}\")\n",
    "        return {\n",
    "            \"is_stealth\": False,\n",
    "            \"is_founder\": False,\n",
    "            \"reason\": \"API Error\"\n",
    "        }"
   ]
  },
  {
   "cell_type": "code",
   "execution_count": 68,
   "metadata": {},
   "outputs": [
    {
     "name": "stdout",
     "output_type": "stream",
     "text": [
      "<class 'dict'>\n",
      "{'is_stealth': True, 'is_founder': False, 'reason': 'No company + vague project'}\n"
     ]
    }
   ],
   "source": [
    "test_subtitle = \"working on new things\"\n",
    "test_skills = \"Python, Startups, Product Development\"\n",
    "result = llm_classifier(test_subtitle, test_skills, config.gpt_4o)\n",
    "print(type(result))\n",
    "print(result)"
   ]
  },
  {
   "cell_type": "code",
   "execution_count": 69,
   "metadata": {},
   "outputs": [],
   "source": [
    "df['is_stealth'] = False  \n",
    "df['is_founder'] = False  \n",
    "df['stealth_reason'] = \"\" "
   ]
  },
  {
   "cell_type": "code",
   "execution_count": 71,
   "metadata": {},
   "outputs": [],
   "source": [
    "for idx, row in df.iterrows():\n",
    "    try:\n",
    "        result = llm_classifier(row['sub_title'], row['skills'], config.gpt_4o)\n",
    "    except Exception as e:\n",
    "        print(f\"Ошибка при запросе к OpenAI: {e}\")\n",
    "        result = {\n",
    "            \"is_stealth\": False,\n",
    "            \"is_founder\": False,\n",
    "            \"reason\": \"API Error\"\n",
    "        }\n",
    "    df.at[idx, 'is_stealth'] = result['is_stealth']\n",
    "    df.at[idx, 'is_founder'] = result['is_founder']\n",
    "    df.at[idx, 'stealth_reason'] = result['reason']"
   ]
  },
  {
   "cell_type": "code",
   "execution_count": 85,
   "metadata": {},
   "outputs": [
    {
     "data": {
      "text/plain": [
       "is_stealth\n",
       "False    366\n",
       "True      40\n",
       "Name: count, dtype: int64"
      ]
     },
     "execution_count": 85,
     "metadata": {},
     "output_type": "execute_result"
    }
   ],
   "source": [
    "df['is_stealth'].value_counts()"
   ]
  },
  {
   "cell_type": "code",
   "execution_count": 86,
   "metadata": {},
   "outputs": [
    {
     "data": {
      "text/plain": [
       "is_founder\n",
       "False    337\n",
       "True      69\n",
       "Name: count, dtype: int64"
      ]
     },
     "execution_count": 86,
     "metadata": {},
     "output_type": "execute_result"
    }
   ],
   "source": [
    "df['is_founder'].value_counts()"
   ]
  },
  {
   "cell_type": "code",
   "execution_count": 88,
   "metadata": {},
   "outputs": [
    {
     "data": {
      "text/plain": [
       "105"
      ]
     },
     "execution_count": 88,
     "metadata": {},
     "output_type": "execute_result"
    }
   ],
   "source": [
    "df_true = df[(df['is_stealth'] == True) | (df['is_founder'] == True)]"
   ]
  },
  {
   "cell_type": "code",
   "execution_count": 98,
   "metadata": {},
   "outputs": [
    {
     "data": {
      "text/plain": [
       "33"
      ]
     },
     "execution_count": 98,
     "metadata": {},
     "output_type": "execute_result"
    }
   ],
   "source": [
    "spec_comp = pd.read_csv('revolut_specific_companies.csv')\n",
    "len(spec_comp)"
   ]
  },
  {
   "cell_type": "code",
   "execution_count": 93,
   "metadata": {},
   "outputs": [
    {
     "data": {
      "text/plain": [
       "Index(['profile_id', 'first_name', 'last_name', 'sub_title', 'location_city',\n",
       "       'location_country', 'li_url', 'skills', 'query_type', 'is_stealth',\n",
       "       'is_founder', 'stealth_reason'],\n",
       "      dtype='object')"
      ]
     },
     "execution_count": 93,
     "metadata": {},
     "output_type": "execute_result"
    }
   ],
   "source": [
    "df_true.columns"
   ]
  },
  {
   "cell_type": "markdown",
   "metadata": {},
   "source": [
    "# соеденю два датасета(один тот что после классификации с ллм, другой с теми у кого в профиле написано stealth startup)"
   ]
  },
  {
   "cell_type": "code",
   "execution_count": 99,
   "metadata": {},
   "outputs": [],
   "source": [
    "df_tu_final_analysis = pd.concat([\n",
    "    df_true[['profile_id', 'first_name', 'last_name', 'sub_title', 'location_city',\n",
    "       'location_country', 'li_url', 'skills']],\n",
    "    spec_comp[['profile_id', 'first_name', 'last_name', 'sub_title', 'location_city',\n",
    "       'location_country', 'li_url', 'skills']]\n",
    "], ignore_index=True)\n"
   ]
  },
  {
   "cell_type": "code",
   "execution_count": 102,
   "metadata": {},
   "outputs": [
    {
     "data": {
      "text/plain": [
       "(138, 124)"
      ]
     },
     "execution_count": 102,
     "metadata": {},
     "output_type": "execute_result"
    }
   ],
   "source": [
    "len(df_tu_final_analysis), len(df_tu_final_analysis.drop_duplicates(subset='profile_id'))"
   ]
  },
  {
   "cell_type": "code",
   "execution_count": 103,
   "metadata": {},
   "outputs": [],
   "source": [
    "df_tu_final_analysis= df_tu_final_analysis.drop_duplicates(subset='profile_id')"
   ]
  },
  {
   "cell_type": "code",
   "execution_count": 106,
   "metadata": {},
   "outputs": [],
   "source": [
    "df_tu_final_analysis.to_csv('df_tu_final_analysis.csv', index=False)"
   ]
  },
  {
   "cell_type": "code",
   "execution_count": 136,
   "metadata": {},
   "outputs": [
    {
     "name": "stdout",
     "output_type": "stream",
     "text": [
      "marc-o-brien-1017811\n"
     ]
    }
   ],
   "source": [
    "for row in df_tu_final_analysis.iterrows():\n",
    "    print(row[1]['profile_id'])\n",
    "    break\n"
   ]
  },
  {
   "cell_type": "markdown",
   "metadata": {},
   "source": [
    "# запрос к проапи посмотреть профиль"
   ]
  },
  {
   "cell_type": "code",
   "execution_count": 132,
   "metadata": {},
   "outputs": [
    {
     "name": "stdout",
     "output_type": "stream",
     "text": [
      "{'profile_id': 'alexander-bratz', 'first_name': 'Alexander', 'last_name': 'Bratz', 'sub_title': 'Founder & FinTechie | Ex-Revolut | Ex-N26 |', 'profile_picture': 'https://media.licdn.com/dms/image/v2/C4E03AQFdZbLs4vOLLA/profile-displayphoto-shrink_800_800/profile-displayphoto-shrink_800_800/0/1637056623072?e=1749081600&v=beta&t=lt2vbAfMktDs4pjRUAtLR5ul9ffhtm-Eblm3mfEi23c', 'background_image': None, 'profile_type': 'personal', 'open_to_work': True, 'entity_urn': 'ACoAAAxPoOoB5B5xD7W1S5smLNw-nBgZEv0UkZY', 'object_urn': 206545130, 'birth_date': None, 'summary': 'We provide a single trusted platform solution to solve your B2B cross-border payment needs in over 180 countries and 37 currencies. Get in touch!', 'location': {'country': 'Germany', 'short': 'Constance, Baden-Württemberg', 'city': 'Constance', 'state': 'Baden-Württemberg', 'default': 'Constance, Baden-Württemberg, Germany'}, 'premium': False, 'influencer': False, 'treasury_media': [], 'languages': {'primary_locale': {'country': 'DE', 'language': 'de'}, 'supported_locales': [{'country': 'DE', 'language': 'de'}], 'profile_languages': [{'name': 'Deutsch', 'proficiency': 'NATIVE_OR_BILINGUAL'}, {'name': 'Englisch', 'proficiency': 'FULL_PROFESSIONAL'}, {'name': 'Französisch', 'proficiency': 'LIMITED_WORKING'}, {'name': 'Italienisch', 'proficiency': 'ELEMENTARY'}]}, 'industry': 'Financial Services', 'education': [{'date': {'start': {'month': None, 'day': None, 'year': 2013}, 'end': {'month': None, 'day': None, 'year': 2014}}, 'school': {'name': 'ESCP Business School', 'logo': 'https://media.licdn.com/dms/image/v2/D4E0BAQF87vEqbDAstA/company-logo_400_400/company-logo_400_400/0/1730279804770/escp_business_school_logo?e=1749081600&v=beta&t=zopLsNPP26uKO6ADP_AOPGaZtOjYCHOJRe9hjlhcSBg', 'url': 'https://www.linkedin.com/school/escp-business-school/'}, 'degree_name': 'Master in European Business', 'description': None, 'field_of_study': 'Finance and Business Strategy', 'grade': '1.0'}, {'date': {'start': {'month': None, 'day': None, 'year': 2015}, 'end': {'month': None, 'day': None, 'year': 2016}}, 'school': {'name': 'Frankfurt School of Finance & Management', 'logo': 'https://media.licdn.com/dms/image/v2/C4D0BAQHLAjWxhrt2QA/company-logo_400_400/company-logo_400_400/0/1630573655211?e=1749081600&v=beta&t=7k0ovRpd9VexWZWvkaQe9SnQRyjgYGY9PMgLDV1q-Zg', 'url': 'https://www.linkedin.com/school/frankfurtschool/'}, 'degree_name': 'Certificate', 'description': None, 'field_of_study': 'Regulatory Reporting Specialist', 'grade': None}, {'date': {'start': {'month': None, 'day': None, 'year': 2008}, 'end': {'month': None, 'day': None, 'year': 2013}}, 'school': {'name': 'Johannes Gutenberg University Mainz', 'logo': 'https://media.licdn.com/dms/image/v2/C4D0BAQGEvod824Z81A/company-logo_400_400/company-logo_400_400/0/1631335043415?e=1749081600&v=beta&t=ir7sEq2FcP1N9K7kjLYCE4xk75STsIpOWJn3gSClxRg', 'url': 'https://www.linkedin.com/school/unimainz/'}, 'degree_name': 'Bachelor of Arts (B.A.)', 'description': None, 'field_of_study': 'Politische Wissenschaft und Regierung', 'grade': '1.9'}], 'patents': [], 'awards': [{'title': 'ESCP Europe \"Scholarship for the European managers of tomorrow\"', 'description': None, 'issuer': None, 'date': {'month': 3, 'day': None, 'year': 2014}}, {'title': 'ESCP Europe Scholarship merit-based', 'description': None, 'issuer': None, 'date': {'month': 11, 'day': None, 'year': 2013}}], 'certifications': [], 'organizations': [], 'projects': [], 'publications': [], 'courses': [], 'test_scores': [], 'position_groups': [{'company': {'id': None, 'name': 'AGYT', 'logo': None, 'url': None, 'employees': {'start': None, 'end': None}}, 'date': {'start': {'month': 5, 'day': None, 'year': 2023}, 'end': {'month': 10, 'day': None, 'year': 2023}}, 'profile_positions': [{'location': 'Berlin, Deutschland', 'date': {'start': {'month': 5, 'day': None, 'year': 2023}, 'end': {'month': 10, 'day': None, 'year': 2023}}, 'company': 'AGYT', 'description': None, 'title': 'Co-Founder & Head of Sales and Business Development', 'employment_type': 'Full-time'}]}, {'company': {'id': 560062, 'name': 'CHECK24 Vergleichsportal', 'logo': 'https://media.licdn.com/dms/image/v2/C4D0BAQGGDxO2gF2yCg/company-logo_400_400/company-logo_400_400/0/1630550743253/check24_vergleichsportal_gmbh_logo?e=1749081600&v=beta&t=JofSoH9H5hRQdb9EhmF8ivQ5exwEWfPYbY7miqP6dbQ', 'url': 'https://www.linkedin.com/company/check24-vergleichsportal-gmbh/', 'employees': {'start': 1001, 'end': 5000}}, 'date': {'start': {'month': 12, 'day': None, 'year': 2022}, 'end': {'month': 5, 'day': None, 'year': 2023}}, 'profile_positions': [{'location': None, 'date': {'start': {'month': 12, 'day': None, 'year': 2022}, 'end': {'month': 5, 'day': None, 'year': 2023}}, 'company': 'CHECK24 Vergleichsportal', 'description': None, 'title': 'Head of Bank Partnerships International', 'employment_type': 'Full-time'}]}, {'company': {'id': 5356541, 'name': 'Revolut', 'logo': 'https://media.licdn.com/dms/image/v2/D4E0BAQFBudSGoYdD9g/company-logo_400_400/company-logo_400_400/0/1736441557682/revolut_logo?e=1749081600&v=beta&t=BSQlYZg5IwNKwZkFq4Idn9G9R0jwtzTbklZnN-6uUHw', 'url': 'https://www.linkedin.com/company/revolut/', 'employees': {'start': 10001, 'end': None}}, 'date': {'start': {'month': 9, 'day': None, 'year': 2019}, 'end': {'month': 5, 'day': None, 'year': 2020}}, 'profile_positions': [{'location': 'London, England, Vereinigtes Königreich', 'date': {'start': {'month': 9, 'day': None, 'year': 2019}, 'end': {'month': 5, 'day': None, 'year': 2020}}, 'company': 'Revolut', 'description': '- built a global finance, regulatory and compliance reporting function with highest degree of automation \\n- grew and managed 3 teams (15 total) of most diverse and multicultural background (15 nationalities; python developers and functional bankers)\\n- always delivered on KPIs', 'title': 'Director | Global Head of Reporting', 'employment_type': 'Full-time'}]}, {'company': {'id': 5325596, 'name': 'Fidor Solutions', 'logo': 'https://media.licdn.com/dms/image/v2/D4E0BAQH5BKOQxlS8KQ/company-logo_400_400/company-logo_400_400/0/1732190782274/fidorsolutions_logo?e=1749081600&v=beta&t=j8kLMddvw-PumzAUxIjHj-Tiv0PgVFhsjLEokZIweYg', 'url': 'https://www.linkedin.com/company/fidorsolutions/', 'employees': {'start': 51, 'end': 200}}, 'date': {'start': {'month': 1, 'day': None, 'year': 2019}, 'end': {'month': 9, 'day': None, 'year': 2019}}, 'profile_positions': [{'location': 'München und Umgebung, Deutschland', 'date': {'start': {'month': 1, 'day': None, 'year': 2019}, 'end': {'month': 9, 'day': None, 'year': 2019}}, 'company': 'Fidor Solutions', 'description': \"- Lead OpenBanking initiatives at Fidor and Fidor Solutions’ clients\\n- Introduced product innovation and developed product concepts for Fidor's retail & SME banking software solution\\n- Lead adhoc strategic product R&D streams within Fidor and between Fidor and client/product partner\\n- Responsible for execution of multiple business plans and product R&D projects\\n- Refined, championed and executed product vision, strategy and roadmap of the responsible product streams\\n- Managed product vendor and partner relationships\\n- Advised internal and external C-level executives, commercial, product engineering, project delivery teams to ensure product success at every stage of the product life cycle\", 'title': 'Senior Manager Product Strategy / Head of Partnership Management', 'employment_type': None}]}, {'company': {'id': 12771, 'name': 'zeb consulting', 'logo': 'https://media.licdn.com/dms/image/v2/D4E0BAQFwEetVDOSBIQ/company-logo_400_400/company-logo_400_400/0/1719591252055/zebconsulting_logo?e=1749081600&v=beta&t=Dwi4kZDL7vSzYjnidrpm0hFaZU5Eaws47D4KyFZj42E', 'url': 'https://www.linkedin.com/company/zebconsulting/', 'employees': {'start': 501, 'end': 1000}}, 'date': {'start': {'month': 6, 'day': None, 'year': 2017}, 'end': {'month': 1, 'day': None, 'year': 2019}}, 'profile_positions': [{'location': 'Berlin', 'date': {'start': {'month': 6, 'day': None, 'year': 2017}, 'end': {'month': 1, 'day': None, 'year': 2019}}, 'company': 'zeb consulting', 'description': '- Big Data Analytics: set up a groupwide Analytical Center of Excellence and training catalogue\\n- Digital Banking: advised on analytical and predictive features\\n- Mobile Banking: advised on in-app analytics in Group Digital Solution Program\\n- GDPR Compliance: lead of DWH and finance stream in a group wide GDPR compliance program', 'title': 'Manager', 'employment_type': None}]}, {'company': {'id': 3116425, 'name': 'N26 Group', 'logo': 'https://media.licdn.com/dms/image/v2/D4E0BAQHAHm6EVpvgAA/company-logo_400_400/B4EZVMGICmGYAY-/0/1740738429526/n26_logo?e=1749081600&v=beta&t=UV2IA-6m7IfTpa2889Fwf7DXDKevgkO76oISDW0-SFo', 'url': 'https://www.linkedin.com/company/n26/', 'employees': {'start': 1001, 'end': 5000}}, 'date': {'start': {'month': 10, 'day': None, 'year': 2016}, 'end': {'month': 6, 'day': None, 'year': 2017}}, 'profile_positions': [{'location': 'Berlin und Umgebung, Deutschland', 'date': {'start': {'month': 10, 'day': None, 'year': 2016}, 'end': {'month': 6, 'day': None, 'year': 2017}}, 'company': 'N26 Group', 'description': '- Set up the whole regulatory reporting division of the newly founded bank \\n- Implemented and customized the regulatory reporting processes and software, set up structure and processes, and assured compliance with European and German regulatory regimes and was first point of contact for Bundesbank \\n- Project lead in introducing FATCA and CRS tax reporting schemes', 'title': 'Head of Financial & Regulatory Reporting', 'employment_type': None}]}, {'company': {'id': 12771, 'name': 'zeb consulting', 'logo': 'https://media.licdn.com/dms/image/v2/D4E0BAQFwEetVDOSBIQ/company-logo_400_400/company-logo_400_400/0/1719591252055/zebconsulting_logo?e=1749081600&v=beta&t=Dwi4kZDL7vSzYjnidrpm0hFaZU5Eaws47D4KyFZj42E', 'url': 'https://www.linkedin.com/company/zebconsulting/', 'employees': {'start': 501, 'end': 1000}}, 'date': {'start': {'month': 5, 'day': None, 'year': 2016}, 'end': {'month': 10, 'day': None, 'year': 2016}}, 'profile_positions': [{'location': None, 'date': {'start': {'month': 5, 'day': None, 'year': 2016}, 'end': {'month': 10, 'day': None, 'year': 2016}}, 'company': 'zeb consulting', 'description': None, 'title': 'Senior Consultant', 'employment_type': None}]}, {'company': {'id': 1349, 'name': 'BearingPoint', 'logo': 'https://media.licdn.com/dms/image/v2/C4D0BAQGvpPaTBtv2Ig/company-logo_400_400/company-logo_400_400/0/1654010943794/bearingpoint_logo?e=1749081600&v=beta&t=hxWl5frhi95m4zYz4hsFceLTPQKxa92sigzwvuU2mB8', 'url': 'https://www.linkedin.com/company/bearingpoint/', 'employees': {'start': 5001, 'end': 10000}}, 'date': {'start': {'month': 8, 'day': None, 'year': 2014}, 'end': {'month': 4, 'day': None, 'year': 2016}}, 'profile_positions': [{'location': 'Frankfurt am Main und Umgebung, Deutschland', 'date': {'start': {'month': 12, 'day': None, 'year': 2014}, 'end': {'month': 4, 'day': None, 'year': 2016}}, 'company': 'BearingPoint', 'description': None, 'title': 'Business Analyst', 'employment_type': None}, {'location': 'Frankfurt am Main und Umgebung, Deutschland', 'date': {'start': {'month': 8, 'day': None, 'year': 2014}, 'end': {'month': 12, 'day': None, 'year': 2014}}, 'company': 'BearingPoint', 'description': '\"Transactional Data in Banking Supervision: Benefits and Limitations\"', 'title': 'Master Student', 'employment_type': None}]}], 'volunteer_experiences': [], 'skills': ['Business Development', 'Customer-Relationship-Management (CRM)', 'Unternehmensfinanzierung', 'Finanzmodelle', 'Corporate Finance', 'Microsoft Excel', 'Forschung', 'Mergers & Acquisitions', 'Unternehmensführung', 'Strategisches Management', 'Political Science', 'Political Communication', 'Investment Banking', 'M&A experience', 'Media Relations', 'Media Production', 'Fusionen und Übernahmen', 'Investmentbank', 'Englisch', 'Unternehmensplanung'], 'network_info': None, 'related_profiles': None, 'contact_info': None, 'verifications_info': None}\n"
     ]
    }
   ],
   "source": [
    "import requests\n",
    "\n",
    "url = \"https://api.proapis.com/iscraper/v4/profile-details\"\n",
    "\n",
    "headers = {\n",
    "    \"Content-Type\": \"application/json\",\n",
    "    \"X-Api-Key\": config.PRO_API_KEY\n",
    "}\n",
    "\n",
    "payload = {\n",
    "    \"profile_id\": \"alexander-bratz\"  # \n",
    "}\n",
    "\n",
    "response = requests.post(url, headers=headers, json=payload)\n",
    "\n",
    "print(response.json())"
   ]
  },
  {
   "cell_type": "code",
   "execution_count": 133,
   "metadata": {},
   "outputs": [],
   "source": [
    "with open('alexander-bratz.json', 'w') as f:\n",
    "    json.dump(response.json(), f, indent=4)"
   ]
  },
  {
   "cell_type": "code",
   "execution_count": 114,
   "metadata": {},
   "outputs": [
    {
     "data": {
      "text/plain": [
       "dict"
      ]
     },
     "execution_count": 114,
     "metadata": {},
     "output_type": "execute_result"
    }
   ],
   "source": [
    "type(response.json())"
   ]
  },
  {
   "cell_type": "code",
   "execution_count": 116,
   "metadata": {},
   "outputs": [
    {
     "data": {
      "text/plain": [
       "dict_keys(['profile_id', 'first_name', 'last_name', 'sub_title', 'profile_picture', 'background_image', 'profile_type', 'open_to_work', 'entity_urn', 'object_urn', 'birth_date', 'summary', 'location', 'premium', 'influencer', 'treasury_media', 'languages', 'industry', 'education', 'patents', 'awards', 'certifications', 'organizations', 'projects', 'publications', 'courses', 'test_scores', 'position_groups', 'volunteer_experiences', 'skills', 'network_info', 'related_profiles', 'contact_info', 'verifications_info'])"
      ]
     },
     "execution_count": 116,
     "metadata": {},
     "output_type": "execute_result"
    }
   ],
   "source": [
    "d = response.json()\n",
    "d.keys()"
   ]
  },
  {
   "cell_type": "markdown",
   "metadata": {},
   "source": [
    "# просто посмотреть структуру json от ответа к профилю"
   ]
  },
  {
   "cell_type": "code",
   "execution_count": 131,
   "metadata": {},
   "outputs": [
    {
     "name": "stdout",
     "output_type": "stream",
     "text": [
      "dict_keys(['company', 'date', 'profile_positions'])\n",
      "<class 'list'>\n",
      "dict_keys(['location', 'date', 'company', 'description', 'title', 'employment_type'])\n",
      "The future of e-commerce 🔜 Founder\n"
     ]
    }
   ],
   "source": [
    "d['position_groups']\n",
    "for i in d['position_groups']:\n",
    "    if 'stealth' in i['company']['name'].lower():\n",
    "        print(i.keys())\n",
    "        print(type(i['profile_positions']))\n",
    "        print(i['profile_positions'][0].keys())\n",
    "        descr = i['profile_positions'][0]['description']\n",
    "        title = i['profile_positions'][0]['title']\n",
    "        print(descr, title)\n",
    "        break\n"
   ]
  },
  {
   "cell_type": "markdown",
   "metadata": {},
   "source": [
    "# пройдусь еще раз ллм что бы найти тех у кого в био у казано что он работает где то конкретно"
   ]
  },
  {
   "cell_type": "code",
   "execution_count": 140,
   "metadata": {},
   "outputs": [
    {
     "name": "stdout",
     "output_type": "stream",
     "text": [
      "Founder & CEO at Trstpays\n",
      "Co-Founder & CPO at DolarApp\n",
      "Founder | Building Cloud 99\n",
      "Owner and CEO of AaHbit, the best gluten free and refined sugar free confectionery in Japan\n",
      "Building something new | ex-Revolut, Lyft, YC S20\n",
      "Building something new | Z-Fellow | ex-Yahoo, ex-Revolut\n",
      "Something New in Crypto (Ex.Revolut, Goldman Sachs)\n",
      "Founder\n",
      "Something new coming soon\n",
      "Senior Product Manager @ KOMI | ex-Spotify & Revolut | Former Founder and 30U30\n",
      "The Independent candidate for Limerick Mayor Élection\n",
      "CEO and Founder at RHH International\n",
      "Founder & FinTechie | Ex-Revolut | Ex-N26 |\n",
      "Founder at TravelGenie | Ex-Revolut, UBS\n",
      "building for merchants across APAC\n",
      "CEO & Co-Founder\n",
      "Growth & Innovation Advisor | ex Amazon, Revolut, VC | Impact Founder\n",
      "Building something new | ex-Revolut\n",
      "Founder @ Empowr Health\n",
      "Co-founder at Givver | HRTech | Payroll | Fintech | Startup Advisor | 🏳️‍🌈\n",
      "Working on something new in the cybersecurity space\n",
      "Safi CEO - We‘re hiring\n",
      "Co-founder @paradime.io | I'm hiring 🤘\n",
      "Co-Founder at Therapify\n",
      "Co-founder @ ShinyLazy.com | Delegate your boring tasks to your new AI sidekick  | X10 your productivity (and revenue $) with Shiny Lazy\n",
      "Founder & CEO Tequipy - equip your hires anywhere in the world | Founder @ Cyber Craft brewery | ex-Revolut, ex-Shares\n",
      "Co-founder @ Helixia - ex Revolut, Shopify\n",
      "Co-Founder @ Vault | Helping 3,000+ companies with better banking\n",
      "Growth solution for Web3\n",
      "Cofounder @ Kaya (YC S21)\n",
      "Co-Founder @ Finex (YC W23) | ex-Revolut\n",
      "Co-Founder at Bitfinity | ex Revolut\n",
      "Chief Executive, Co-founder\n",
      "Co-founder | ex-Revolut, ex-Wix\n",
      "Co-Founder at Pledge - We're hiring!\n",
      "Co-Founder at Vault\n",
      "Co-Founder at Deblock 🚀\n",
      "Co-Founder at Datatech\n",
      "Co-founder Userology AI | ex- PM at Revolut, Uber, FlyFin AI\n",
      "Building something new | Ex-Revolut\n",
      "Co-Founder of AYBIZA | Acquiring clients for SaaS since 2019\n",
      "Co-Founder at Tipit\n",
      "Co-founder Atria Stays, Real estate company in Spain.\n",
      "Co-Founder @ Sardine | Product Launch, Team Management\n",
      "Tequipy Co-Founder | Helping startups to supply, manage and secure IT devices globally | ex-Revolut\n",
      "Cofounder at Kaya (YC S21) • 10x growth for startups • ex-Revolut, GS\n",
      "Building\n",
      "Co-Founder @ Ferry | Manufacturing Intelligence Platform\n",
      "Co-Founder @ Ferry | Ex Palantir, Ex Revolut\n",
      "Co-Founder | ex-Revolut | Tech in finance domain\n",
      "co-founder and CPO at ro: | ex-Revolut\n",
      "Co-Founder @ Vortex Marketing Solutions | Executive MBA\n",
      "Founder @ Gaido\n",
      "Senior Product Manager @ Expedia ✈️ +600,000 followers on IG & TikTok | Angel Investor & Founder 👩🏽‍💻 Career Coach & Personal Finance Speaker\n",
      "Building | Ex-Revolut | Ex-Abbott | IIT Bombay\n",
      "Founder @ DataUnlocker\n",
      "Product Manager | Freelance Consultant | Founder\n",
      "Building something new\n",
      "Digital Marketer helping startups grow| Medium Writer | Ex-Fintech analyst |Founder-The Heal Queen| |Mental health enthusiast\n",
      "Founder at InfluenZverse\n",
      "co-Founder @ Nobly (acquired by Revolut), founder @ Stealth\n",
      "Founder I Growth Advisor I Mentor I Sales Leadership Coach I International Expansion\n",
      "Founder at SELZA®🥤Healthier alcohol for a modern consumer | Ex-Bolt | Ex-Bitpanda\n",
      "Founder at FSEngine\n",
      "Serial Entrepreneur, Founder & CEO of some Companies, Media Owner, Talent Manager & Computer Scientist.\n",
      "Founder & CEO at Redeco | ex-Revolut\n",
      "Founder | Ex-Revolut, Ex-McKinsey\n",
      "TAM @ Yuno | Founder @ Sheets Central 🚀 | Full Stack Developer | Fintech\n",
      "I help SDRs and Founders increase their meetings booked by 25% thru outbound strategies | Favikon Top 2 Best Sales content creator | thestartupeffect.com newsletter founder\n",
      "Founder @ Blue Lion VC;  prev. Founding Team @ Lakestar VC (>$1.4bn AUM)\n",
      "Founder — Sell2Grow. | We set up B2B Outbound & Inbound machines so you get Qualified Credit-Worthy Pipeline 🚀 | ex-Revolut.\n",
      "Hiring for Apron | Building FunScore\n",
      "Building 🚀 to recruit 🦄\n",
      "Senior Software Engineer at Codility, founder of laluta - smart journaling\n",
      "Founder at KOLT | Helping agencies streamline client reporting\n",
      "Building smth new 😉 | Ex-Revolut\n",
      "Founder @ Kem \n",
      "web3\n",
      "Owner at String Taste\n",
      "Risk Management Expert @ Stealth Startup | CFE\n",
      "Head of Sales Enablement EMEA/APACx at Stealth Mode Startup\n",
      "Founding Software Engineer at Stealth startup, ex-Revolut, ex-Yandex\n",
      "Stealth in Saudi Arabia | Building digital banks & start ups 🚀 | Ex Wio-Bank, Ex-Revolut\n",
      "Building a Brand\n",
      "Building in Data\n",
      "Building | ex Revolut\n",
      "Building Deblock 🛠\n",
      "Heads down. Learning and building.\n",
      "Building 🌍 | Ex-Revolut\n",
      "Building something cool | AI\n",
      "Building Natuka 🌱🐶\n",
      "Building with Zeal | ex-Revolut & Spotify\n",
      "Building something new | ex-Revolut\n",
      "🧱🤝🙇 #Building #HeadsDown\n",
      "Building something new | Ex-Revolut\n",
      "Building 🛠️ | ex-Revolut / Google / AWS\n",
      "Building better web3 experience, ex: Revolut\n",
      "Building the world’s first cancer protection system\n",
      "Learning Coach & Facilitator @ Miro - Building the future of work\n",
      "Building Your Influence & Authority with Podcasts | Founder & CEO of Voics\n",
      "Building something new in the social network space | Ex-Revolut | Ex-Delivery Hero\n",
      "Product Manager @Shilling | Building AI-Driven & No-Code Solutions | Ex Microsoft | Fintech Founder\n",
      "Building HireQuotient| Co-founder@Chamberly | Generative AI + Global SaaS | X- Amazon, Revolut\n",
      "Entrepreneur // CEO @ BOK | Building something new in FinTech |  Ex-Revolut | Wine and Food enthusiast \n",
      "Founder & CEO | Board Director | Angel Investor | CPO/CPTO | Startup Advisor | Keynote Speaker (Ecommerce/FinTech/Adtech | Revolut, Future Group, Nuance, Yodlee, Acxiom, RIM, Lucent)\n",
      "Building something cool | 3rd time founder | Ex-Revolut, Ex-Square of Saudi (Hala), Ex-Music EdTech game (Ranam), Ex-McKinsey\n",
      "Something New in Payments ⚫️\n",
      "Changing Payments. Ex Revolut.\n",
      "HIRING London, NYC, Portugal\n",
      "Co-Founder & CEO  | Reinventing Finances for the Transportation Industry through AI\n",
      "Founder, Product Executive & Board Advisor\n",
      "Founder | ex-PM @Revolut @Citymapper\n",
      "FinTech | ex-Revolut\n",
      "Ex-Revolut\n",
      "Project Manager @ FailSafe Labs | Ex-Revolut Ex-Apple\n",
      "SaaS | Growth Strategist\n",
      "CBDO | Inspired by Technology | Global Brand | Startups\n",
      "---\n",
      "CTO & Founder @ Kawa Analytics | Data Analytics | Fintech\n",
      "Strategic Communications | Forbes 30 under 30 | ex-Revolut\n",
      "Cleantech | Ex Revolut | Ex McKinsey\n",
      "Finance & Tech\n",
      "Full Stack Developer with 6+ years of experience - Worked with fortune 500 companies\n",
      "Chief of Staff @ Simple App | ex-Revolut, BofA Merill Lynch | Wharton\n",
      "Lead Operations Manager | Designing processes and finding impactful solutions\n",
      "Product Strategy & Operations | Stanford | Duke | BITS-Pilani\n"
     ]
    }
   ],
   "source": [
    "for sub_title in df_tu_final_analysis['sub_title']:\n",
    "    print(sub_title)\n",
    "    \n"
   ]
  },
  {
   "cell_type": "code",
   "execution_count": 146,
   "metadata": {},
   "outputs": [
    {
     "data": {
      "text/plain": [
       "'https://www.linkedin.com/in/dave-johns/'"
      ]
     },
     "execution_count": 146,
     "metadata": {},
     "output_type": "execute_result"
    }
   ],
   "source": [
    "df_tu_final_analysis.iloc[23]['li_url']"
   ]
  },
  {
   "cell_type": "code",
   "execution_count": 152,
   "metadata": {},
   "outputs": [],
   "source": [
    "from openai import OpenAI\n",
    "from typing import Dict, Any\n",
    "import json\n",
    "import config\n",
    "\n",
    "client = OpenAI(api_key=config.OPENAI_API_KEY)\n",
    "\n",
    "def company_name_classifier(sub_title: str, model: str) -> Dict[str, Any]:\n",
    "\n",
    "    prompt = f\"\"\"\n",
    "                Analyze the LinkedIn profile title and determine if it contains a CURRENT company name (True/False).\n",
    "\n",
    "                Rules for identifying current company names:\n",
    "                1. Company name should be a specific organization name, not an industry or activity description\n",
    "                2. Current company names often appear after \"@\", \"at\", \"in\", or similar prepositions\n",
    "                3. If all companies are prefixed with \"ex-\", \"former\", or similar, then there is no current company\n",
    "                4. Generic descriptions like \"stealth\", \"new venture\", \"something new\", \"crypto project\" are NOT company names\n",
    "                5. The company name should be for current employment (not past)\n",
    "\n",
    "                Examples:\n",
    "\n",
    "                FALSE cases (no current company mentioned):\n",
    "                - \"Building something new | ex-Google\" (only past company)\n",
    "                - \"Something new coming soon\" (no company name)\n",
    "                - \"Building something new | ex-Revolut, Lyft, YC S20\" (only past companies)\n",
    "                - \"Building something new | Z-Fellow | ex-Yahoo, ex-Revolut\" (no current company)\n",
    "                - \"Something New in Crypto (Ex.Revolut, Goldman Sachs)\" (industry mention, not company name)\n",
    "                - \"Founder & CEO of Stealth Startup\" (generic, not a specific company)\n",
    "                - \"Building the future of fintech\" (activity description, not company)\n",
    "                - \"Entrepreneur in Residence\" (role without company)\n",
    "\n",
    "                TRUE cases (current company mentioned):\n",
    "                - \"Senior Product Manager @ KOMI | ex-Spotify & Revolut\" (KOMI is current)\n",
    "                - \"Chief of Staff @ Simple App | ex-Revolut\" (Simple App is current)\n",
    "                - \"Engineering Lead at Monzo Bank\" (Monzo Bank is current)\n",
    "                - \"Product Manager @ N26 | Previously Revolut\" (N26 is current)\n",
    "                - \"CEO of TechCorp | ex-Google\" (TechCorp is current)\n",
    "\n",
    "                Input title: \"{sub_title}\"\n",
    "\n",
    "                Return JSON format:\n",
    "                {{\n",
    "                    \"has_current_company\": boolean,\n",
    "                    \"reason\": \"explanation of decision in 5-6 words\"\n",
    "                }}\n",
    "                \"\"\"\n",
    "    \n",
    "    try:\n",
    "        response = client.chat.completions.create(\n",
    "            model=model,\n",
    "            messages=[\n",
    "                {\"role\": \"system\", \"content\": \"Analyze LinkedIn profiles to identify is there current company name or not.\"},\n",
    "                {\"role\": \"user\", \"content\": prompt}\n",
    "            ],\n",
    "            temperature=0.3,\n",
    "            max_tokens=100,\n",
    "            response_format={\"type\": \"json_object\"}  \n",
    "        )\n",
    "        \n",
    "        result = json.loads(response.choices[0].message.content)\n",
    "        return result\n",
    "        \n",
    "    except Exception as e:\n",
    "        print(f\"Ошибка при запросе к OpenAI: {e}\")\n",
    "        return {\n",
    "            \"has_current_company\": False,\n",
    "            \"reason\": \"API Error\"\n",
    "        }"
   ]
  },
  {
   "cell_type": "code",
   "execution_count": 153,
   "metadata": {},
   "outputs": [
    {
     "name": "stdout",
     "output_type": "stream",
     "text": [
      "<class 'dict'>\n",
      "{'has_current_company': False, 'reason': 'No specific company mentioned'}\n"
     ]
    }
   ],
   "source": [
    "test_subtitle = \"working on new things\"\n",
    "test_skills = \"Python, Startups, Product Development\"\n",
    "result = company_name_classifier(test_subtitle, config.gpt_4o)\n",
    "print(type(result))\n",
    "print(result)"
   ]
  },
  {
   "cell_type": "code",
   "execution_count": 154,
   "metadata": {},
   "outputs": [
    {
     "name": "stderr",
     "output_type": "stream",
     "text": [
      "Анализ профилей: 100%|██████████| 124/124 [01:46<00:00,  1.17it/s]\n"
     ]
    }
   ],
   "source": [
    "from tqdm import tqdm\n",
    "\n",
    "# Инициализируем новые колонки\n",
    "df_tu_final_analysis['has_current_company'] = False\n",
    "df_tu_final_analysis['current_company_reason'] = \"\"\n",
    "\n",
    "# Используем tqdm для отображения прогресса\n",
    "for idx, row in tqdm(df_tu_final_analysis.iterrows(), total=len(df_tu_final_analysis), desc=\"Анализ профилей\"):\n",
    "    try:\n",
    "        result = company_name_classifier(row['sub_title'], config.gpt_4o)\n",
    "        \n",
    "        # Записываем результаты в DataFrame\n",
    "        df_tu_final_analysis.at[idx, 'has_current_company'] = result['has_current_company']\n",
    "        df_tu_final_analysis.at[idx, 'current_company_reason'] = result['reason']\n",
    "        \n",
    "    except Exception as e:\n",
    "        print(f\"Ошибка при обработке строки {idx}: {e}\")\n",
    "        df_tu_final_analysis.at[idx, 'current_company_reason'] = f\"Error: {str(e)}\"\n"
   ]
  },
  {
   "cell_type": "code",
   "execution_count": 175,
   "metadata": {},
   "outputs": [
    {
     "data": {
      "text/plain": [
       "has_current_company\n",
       "False    68\n",
       "True     56\n",
       "Name: count, dtype: int64"
      ]
     },
     "execution_count": 175,
     "metadata": {},
     "output_type": "execute_result"
    }
   ],
   "source": [
    "df_tu_final_analysis.value_counts('has_current_company')"
   ]
  },
  {
   "cell_type": "code",
   "execution_count": 176,
   "metadata": {},
   "outputs": [],
   "source": [
    "df_tu_final_classification = df_tu_final_analysis[df_tu_final_analysis['has_current_company'] == False]\n",
    "\n"
   ]
  },
  {
   "cell_type": "code",
   "execution_count": 177,
   "metadata": {},
   "outputs": [],
   "source": [
    "df_tu_final_classification.to_csv('df_tu_final_classification.csv', index=False)"
   ]
  },
  {
   "cell_type": "code",
   "execution_count": 179,
   "metadata": {},
   "outputs": [
    {
     "data": {
      "text/html": [
       "<div>\n",
       "<style scoped>\n",
       "    .dataframe tbody tr th:only-of-type {\n",
       "        vertical-align: middle;\n",
       "    }\n",
       "\n",
       "    .dataframe tbody tr th {\n",
       "        vertical-align: top;\n",
       "    }\n",
       "\n",
       "    .dataframe thead th {\n",
       "        text-align: right;\n",
       "    }\n",
       "</style>\n",
       "<table border=\"1\" class=\"dataframe\">\n",
       "  <thead>\n",
       "    <tr style=\"text-align: right;\">\n",
       "      <th></th>\n",
       "      <th>profile_id</th>\n",
       "      <th>first_name</th>\n",
       "      <th>last_name</th>\n",
       "      <th>sub_title</th>\n",
       "      <th>location_city</th>\n",
       "      <th>location_country</th>\n",
       "      <th>li_url</th>\n",
       "      <th>skills</th>\n",
       "      <th>has_current_company</th>\n",
       "      <th>current_company_reason</th>\n",
       "    </tr>\n",
       "  </thead>\n",
       "  <tbody>\n",
       "    <tr>\n",
       "      <th>113</th>\n",
       "      <td>maximshestopalov</td>\n",
       "      <td>Maxim</td>\n",
       "      <td>Shestopalov</td>\n",
       "      <td>Ex-Revolut</td>\n",
       "      <td>NaN</td>\n",
       "      <td>united arab emirates</td>\n",
       "      <td>https://www.linkedin.com/in/maximshestopalov/</td>\n",
       "      <td>IT Recruitment, Interviewing, Sourcing, Techni...</td>\n",
       "      <td>False</td>\n",
       "      <td>Only past company mentioned</td>\n",
       "    </tr>\n",
       "    <tr>\n",
       "      <th>118</th>\n",
       "      <td>jeanna-m</td>\n",
       "      <td>Jeanna</td>\n",
       "      <td>M.</td>\n",
       "      <td>SaaS | Growth Strategist</td>\n",
       "      <td>NaN</td>\n",
       "      <td>united arab emirates</td>\n",
       "      <td>https://www.linkedin.com/in/jeanna-m/</td>\n",
       "      <td>Communication, Branding, Illustration, Adobe C...</td>\n",
       "      <td>False</td>\n",
       "      <td>No specific company mentioned</td>\n",
       "    </tr>\n",
       "    <tr>\n",
       "      <th>120</th>\n",
       "      <td>iamruslana</td>\n",
       "      <td>Ruslana</td>\n",
       "      <td>N.</td>\n",
       "      <td>CBDO | Inspired by Technology | Global Brand |...</td>\n",
       "      <td>amsterdam</td>\n",
       "      <td>netherlands</td>\n",
       "      <td>https://www.linkedin.com/in/iamruslana/</td>\n",
       "      <td>Working with Investors, Sales Management, Busi...</td>\n",
       "      <td>False</td>\n",
       "      <td>No specific company name mentioned</td>\n",
       "    </tr>\n",
       "    <tr>\n",
       "      <th>121</th>\n",
       "      <td>mattialandolfi</td>\n",
       "      <td>Mattia</td>\n",
       "      <td>Landolfi</td>\n",
       "      <td>---</td>\n",
       "      <td>cracow</td>\n",
       "      <td>poland</td>\n",
       "      <td>https://www.linkedin.com/in/mattialandolfi/</td>\n",
       "      <td>Team Leadership, SQL, Problem Solving, Data An...</td>\n",
       "      <td>False</td>\n",
       "      <td>no specific current company name</td>\n",
       "    </tr>\n",
       "    <tr>\n",
       "      <th>123</th>\n",
       "      <td>eduard-t-43589244</td>\n",
       "      <td>Eduard</td>\n",
       "      <td>T.</td>\n",
       "      <td>Strategic Communications | Forbes 30 under 30 ...</td>\n",
       "      <td>brussels</td>\n",
       "      <td>belgium</td>\n",
       "      <td>https://www.linkedin.com/in/eduard-t-43589244/</td>\n",
       "      <td>Crisis Communications, Strategic Communication...</td>\n",
       "      <td>False</td>\n",
       "      <td>only past company mentioned</td>\n",
       "    </tr>\n",
       "    <tr>\n",
       "      <th>127</th>\n",
       "      <td>tej-patel01</td>\n",
       "      <td>Tej</td>\n",
       "      <td>Patel</td>\n",
       "      <td>Cleantech | Ex Revolut | Ex McKinsey</td>\n",
       "      <td>NaN</td>\n",
       "      <td>NaN</td>\n",
       "      <td>https://www.linkedin.com/in/tej-patel01/</td>\n",
       "      <td>Aerospace, Manufacturing, Root Cause Analysis,...</td>\n",
       "      <td>False</td>\n",
       "      <td>Only past companies mentioned</td>\n",
       "    </tr>\n",
       "    <tr>\n",
       "      <th>128</th>\n",
       "      <td>nour-kai-056506268</td>\n",
       "      <td>Nour</td>\n",
       "      <td>Kai</td>\n",
       "      <td>Finance &amp; Tech</td>\n",
       "      <td>NaN</td>\n",
       "      <td>NaN</td>\n",
       "      <td>https://www.linkedin.com/in/nour-kai-056506268/</td>\n",
       "      <td>NaN</td>\n",
       "      <td>False</td>\n",
       "      <td>No specific company mentioned</td>\n",
       "    </tr>\n",
       "    <tr>\n",
       "      <th>129</th>\n",
       "      <td>shikha-garg-641460149</td>\n",
       "      <td>Shikha</td>\n",
       "      <td>Garg</td>\n",
       "      <td>Full Stack Developer with 6+ years of experien...</td>\n",
       "      <td>NaN</td>\n",
       "      <td>NaN</td>\n",
       "      <td>https://www.linkedin.com/in/shikha-garg-641460...</td>\n",
       "      <td>NaN</td>\n",
       "      <td>False</td>\n",
       "      <td>No specific current company mentioned</td>\n",
       "    </tr>\n",
       "    <tr>\n",
       "      <th>136</th>\n",
       "      <td>alinyaaraujo</td>\n",
       "      <td>Aliny</td>\n",
       "      <td>P.</td>\n",
       "      <td>Lead Operations Manager | Designing processes ...</td>\n",
       "      <td>st albans</td>\n",
       "      <td>united kingdom</td>\n",
       "      <td>https://www.linkedin.com/in/alinyaaraujo/</td>\n",
       "      <td>Strategic Planning, Process Improvement, Proje...</td>\n",
       "      <td>False</td>\n",
       "      <td>No specific company name mentioned</td>\n",
       "    </tr>\n",
       "    <tr>\n",
       "      <th>137</th>\n",
       "      <td>anirudhmanchiraju</td>\n",
       "      <td>Anirudh</td>\n",
       "      <td>Manchiraju</td>\n",
       "      <td>Product Strategy &amp; Operations | Stanford | Duk...</td>\n",
       "      <td>NaN</td>\n",
       "      <td>NaN</td>\n",
       "      <td>https://www.linkedin.com/in/anirudhmanchiraju/</td>\n",
       "      <td>Data Analysis, Strategy, Project Management, B...</td>\n",
       "      <td>False</td>\n",
       "      <td>No specific current company name</td>\n",
       "    </tr>\n",
       "  </tbody>\n",
       "</table>\n",
       "</div>"
      ],
      "text/plain": [
       "                profile_id first_name    last_name  \\\n",
       "113       maximshestopalov      Maxim  Shestopalov   \n",
       "118               jeanna-m     Jeanna           M.   \n",
       "120             iamruslana    Ruslana           N.   \n",
       "121         mattialandolfi     Mattia     Landolfi   \n",
       "123      eduard-t-43589244     Eduard           T.   \n",
       "127            tej-patel01        Tej        Patel   \n",
       "128     nour-kai-056506268       Nour          Kai   \n",
       "129  shikha-garg-641460149     Shikha         Garg   \n",
       "136           alinyaaraujo      Aliny           P.   \n",
       "137      anirudhmanchiraju    Anirudh   Manchiraju   \n",
       "\n",
       "                                             sub_title location_city  \\\n",
       "113                                         Ex-Revolut           NaN   \n",
       "118                           SaaS | Growth Strategist           NaN   \n",
       "120  CBDO | Inspired by Technology | Global Brand |...     amsterdam   \n",
       "121                                                ---        cracow   \n",
       "123  Strategic Communications | Forbes 30 under 30 ...      brussels   \n",
       "127               Cleantech | Ex Revolut | Ex McKinsey           NaN   \n",
       "128                                     Finance & Tech           NaN   \n",
       "129  Full Stack Developer with 6+ years of experien...           NaN   \n",
       "136  Lead Operations Manager | Designing processes ...     st albans   \n",
       "137  Product Strategy & Operations | Stanford | Duk...           NaN   \n",
       "\n",
       "         location_country                                             li_url  \\\n",
       "113  united arab emirates      https://www.linkedin.com/in/maximshestopalov/   \n",
       "118  united arab emirates              https://www.linkedin.com/in/jeanna-m/   \n",
       "120           netherlands            https://www.linkedin.com/in/iamruslana/   \n",
       "121                poland        https://www.linkedin.com/in/mattialandolfi/   \n",
       "123               belgium     https://www.linkedin.com/in/eduard-t-43589244/   \n",
       "127                   NaN           https://www.linkedin.com/in/tej-patel01/   \n",
       "128                   NaN    https://www.linkedin.com/in/nour-kai-056506268/   \n",
       "129                   NaN  https://www.linkedin.com/in/shikha-garg-641460...   \n",
       "136        united kingdom          https://www.linkedin.com/in/alinyaaraujo/   \n",
       "137                   NaN     https://www.linkedin.com/in/anirudhmanchiraju/   \n",
       "\n",
       "                                                skills  has_current_company  \\\n",
       "113  IT Recruitment, Interviewing, Sourcing, Techni...                False   \n",
       "118  Communication, Branding, Illustration, Adobe C...                False   \n",
       "120  Working with Investors, Sales Management, Busi...                False   \n",
       "121  Team Leadership, SQL, Problem Solving, Data An...                False   \n",
       "123  Crisis Communications, Strategic Communication...                False   \n",
       "127  Aerospace, Manufacturing, Root Cause Analysis,...                False   \n",
       "128                                                NaN                False   \n",
       "129                                                NaN                False   \n",
       "136  Strategic Planning, Process Improvement, Proje...                False   \n",
       "137  Data Analysis, Strategy, Project Management, B...                False   \n",
       "\n",
       "                    current_company_reason  \n",
       "113            Only past company mentioned  \n",
       "118          No specific company mentioned  \n",
       "120     No specific company name mentioned  \n",
       "121       no specific current company name  \n",
       "123            only past company mentioned  \n",
       "127          Only past companies mentioned  \n",
       "128          No specific company mentioned  \n",
       "129  No specific current company mentioned  \n",
       "136     No specific company name mentioned  \n",
       "137       No specific current company name  "
      ]
     },
     "execution_count": 179,
     "metadata": {},
     "output_type": "execute_result"
    }
   ],
   "source": [
    "df_tu_final_classification.tail(10)"
   ]
  },
  {
   "cell_type": "code",
   "execution_count": 180,
   "metadata": {},
   "outputs": [],
   "source": [
    "import requests\n",
    "\n",
    "url = \"https://api.proapis.com/iscraper/v4/profile-details\"\n",
    "\n",
    "headers = {\n",
    "    \"Content-Type\": \"application/json\",\n",
    "    \"X-Api-Key\": config.PRO_API_KEY\n",
    "}\n",
    "\n",
    "payload = {\n",
    "    \"profile_id\": \"maximshestopalov\"   \n",
    "}\n",
    "\n",
    "response = requests.post(url, headers=headers, json=payload)\n",
    "\n",
    "with open('maximshestopalov.json', 'w') as f:\n",
    "    json.dump(response.json(), f, indent=4)\n"
   ]
  },
  {
   "cell_type": "code",
   "execution_count": 182,
   "metadata": {},
   "outputs": [
    {
     "name": "stdout",
     "output_type": "stream",
     "text": [
      "\n",
      "Заголовок из API: Ex-Revolut\n",
      "\n",
      "Текущая позиция:\n",
      "Компания: Stealth Startup\n",
      "Должность: Operations Manager\n",
      "Начало работы: 2024-01\n",
      "Тип занятости: Part-time\n",
      "Локация: Dubai, United Arab Emirates\n"
     ]
    }
   ],
   "source": [
    "import json\n",
    "from typing import Dict, Any\n",
    "\n",
    "def format_date(date_dict: Dict) -> str:\n",
    "    if not date_dict or not date_dict.get('year'):\n",
    "        return None\n",
    "    \n",
    "    month = str(date_dict.get('month', 1)).zfill(2)\n",
    "    year = str(date_dict['year'])\n",
    "    return f\"{year}-{month}\"\n",
    "\n",
    "def extract_profile_info(file_path: str) -> Dict[str, Any]:\n",
    "\n",
    "    try:\n",
    "        with open(file_path, 'r', encoding='utf-8') as file:\n",
    "            json_data = json.load(file)\n",
    "        \n",
    "        profile_info = {\n",
    "            'api_sub_title': json_data['sub_title'],\n",
    "            'current_position': None\n",
    "        }\n",
    "        \n",
    "        \n",
    "        if 'position_groups' in json_data and json_data['position_groups']:\n",
    "            current_group = json_data['position_groups'][0]\n",
    "            if current_group['profile_positions']:\n",
    "                current_position = current_group['profile_positions'][0]\n",
    "                profile_info['current_position'] = {\n",
    "                    'company': current_group['company']['name'],\n",
    "                    'title': current_position['title'],\n",
    "                    'start_date': format_date(current_position['date']['start']),\n",
    "                    'employment_type': current_position['employment_type'],\n",
    "                    'location': current_position.get('location', 'N/A')\n",
    "                }\n",
    "        \n",
    "        return profile_info\n",
    "    \n",
    "    except Exception as e:\n",
    "        print(f\"Ошибка при обработке файла {file_path}: {str(e)}\")\n",
    "        return None\n",
    "\n",
    "\n",
    "file_path = \"maximshestopalov.json\"\n",
    "profile_data = extract_profile_info(file_path)\n",
    "\n",
    "if profile_data:\n",
    "    # заметил что он иногда отличается от того что в линкед ин\n",
    "    print(\"\\nЗаголовок из API:\", profile_data['api_sub_title'])\n",
    "    \n",
    "    if profile_data['current_position']:\n",
    "        current = profile_data['current_position']\n",
    "        print(\"\\nТекущая позиция:\")\n",
    "        print(f\"Компания: {current['company']}\")\n",
    "        print(f\"Должность: {current['title']}\")\n",
    "        print(f\"Начало работы: {current['start_date']}\")\n",
    "        print(f\"Тип занятости: {current['employment_type']}\")\n",
    "        print(f\"Локация: {current['location']}\")"
   ]
  },
  {
   "cell_type": "markdown",
   "metadata": {},
   "source": [
    "# теперь пройду по датасету и сделаю в цикле запросы к апи"
   ]
  },
  {
   "cell_type": "code",
   "execution_count": 185,
   "metadata": {},
   "outputs": [
    {
     "name": "stderr",
     "output_type": "stream",
     "text": [
      "Обработка профилей:  24%|██▎       | 16/68 [00:43<02:19,  2.68s/it]"
     ]
    },
    {
     "name": "stdout",
     "output_type": "stream",
     "text": [
      "Ошибка API для íñigo-goizueta-61a614162: 404\n"
     ]
    },
    {
     "name": "stderr",
     "output_type": "stream",
     "text": [
      "Обработка профилей:  57%|█████▋    | 39/68 [01:43<01:16,  2.64s/it]"
     ]
    },
    {
     "name": "stdout",
     "output_type": "stream",
     "text": [
      "Ошибка API для david-kfm: 404\n"
     ]
    },
    {
     "name": "stderr",
     "output_type": "stream",
     "text": [
      "Обработка профилей:  87%|████████▋ | 59/68 [02:32<00:19,  2.13s/it]"
     ]
    },
    {
     "name": "stdout",
     "output_type": "stream",
     "text": [
      "Ошибка API для jeanna-m: 404\n"
     ]
    },
    {
     "name": "stderr",
     "output_type": "stream",
     "text": [
      "Обработка профилей:  88%|████████▊ | 60/68 [02:34<00:17,  2.17s/it]"
     ]
    },
    {
     "name": "stdout",
     "output_type": "stream",
     "text": [
      "Ошибка API для iamruslana: 404\n"
     ]
    },
    {
     "name": "stderr",
     "output_type": "stream",
     "text": [
      "Обработка профилей:  94%|█████████▍| 64/68 [02:44<00:09,  2.43s/it]"
     ]
    },
    {
     "name": "stdout",
     "output_type": "stream",
     "text": [
      "Ошибка API для nour-kai-056506268: 404\n"
     ]
    },
    {
     "name": "stderr",
     "output_type": "stream",
     "text": [
      "Обработка профилей: 100%|██████████| 68/68 [02:54<00:00,  2.57s/it]"
     ]
    },
    {
     "name": "stdout",
     "output_type": "stream",
     "text": [
      "\n",
      "Данные сохранены в 'profiles_with_current_positions.csv'\n"
     ]
    },
    {
     "name": "stderr",
     "output_type": "stream",
     "text": [
      "\n"
     ]
    }
   ],
   "source": [
    "import requests\n",
    "import json\n",
    "import pandas as pd\n",
    "from tqdm import tqdm\n",
    "import os\n",
    "from typing import Dict, Any\n",
    "import time\n",
    "\n",
    "def format_date(date_dict: Dict) -> str:\n",
    "    if not date_dict or not date_dict.get('year'):\n",
    "        return None\n",
    "    \n",
    "    month = str(date_dict.get('month', 1)).zfill(2)\n",
    "    year = str(date_dict['year'])\n",
    "    return f\"{year}-{month}\"\n",
    "\n",
    "def extract_profile_info(json_data: Dict) -> Dict[str, Any]:\n",
    "    try:\n",
    "        profile_info = {\n",
    "            'api_sub_title': json_data['sub_title'],\n",
    "            'current_position': None\n",
    "        }\n",
    "        \n",
    "        if 'position_groups' in json_data and json_data['position_groups']:\n",
    "            current_group = json_data['position_groups'][0]\n",
    "            if current_group['profile_positions']:\n",
    "                current_position = current_group['profile_positions'][0]\n",
    "                profile_info['current_position'] = {\n",
    "                    'company': current_group['company']['name'],\n",
    "                    'title': current_position['title'],\n",
    "                    'start_date': format_date(current_position['date']['start']),\n",
    "                    'employment_type': current_position['employment_type'],\n",
    "                    'location': current_position.get('location', 'N/A')\n",
    "                }\n",
    "        \n",
    "        return profile_info\n",
    "    \n",
    "    except Exception as e:\n",
    "        print(f\"Ошибка при обработке данных: {str(e)}\")\n",
    "        return None\n",
    "\n",
    "def process_profiles(df_input: pd.DataFrame):\n",
    "    os.makedirs('final_request_to_api', exist_ok=True)\n",
    "    \n",
    "    new_data = []\n",
    "    \n",
    "    \n",
    "    url = \"https://api.proapis.com/iscraper/v4/profile-details\"\n",
    "    headers = {\n",
    "        \"Content-Type\": \"application/json\",\n",
    "        \"X-Api-Key\": config.PRO_API_KEY\n",
    "    }\n",
    "    \n",
    "    \n",
    "    for _, row in tqdm(df_input.iterrows(), total=len(df_input), desc=\"Обработка профилей\"):\n",
    "        try:\n",
    "            \n",
    "            payload = {\"profile_id\": row['profile_id']}\n",
    "            response = requests.post(url, headers=headers, json=payload)\n",
    "            \n",
    "            if response.status_code == 200:\n",
    "                json_data = response.json()\n",
    "                json_file_path = f\"final_request_to_api/{row['profile_id']}.json\"\n",
    "                with open(json_file_path, 'w', encoding='utf-8') as f:\n",
    "                    json.dump(json_data, f, indent=4, ensure_ascii=False)\n",
    "                \n",
    "                profile_info = extract_profile_info(json_data)\n",
    "                \n",
    "                if profile_info:\n",
    "                    profile_data = {\n",
    "                        'profile_id': row['profile_id'],\n",
    "                        'first_name': row['first_name'],\n",
    "                        'last_name': row['last_name'],\n",
    "                        'linkedin_sub_title': row['sub_title'],\n",
    "                        'li_url': row['li_url'],\n",
    "                        'api_sub_title': profile_info['api_sub_title']\n",
    "                    }\n",
    "                    \n",
    "                    if profile_info['current_position']:\n",
    "                        current = profile_info['current_position']\n",
    "                        profile_data.update({\n",
    "                            'current_company': current['company'],\n",
    "                            'current_title': current['title'],\n",
    "                            'start_date': current['start_date'],\n",
    "                            'employment_type': current['employment_type'],\n",
    "                            'location': current['location']\n",
    "                        })\n",
    "                    else:\n",
    "                        profile_data.update({\n",
    "                            'current_company': None,\n",
    "                            'current_title': None,\n",
    "                            'start_date': None,\n",
    "                            'employment_type': None,\n",
    "                            'location': None\n",
    "                        })\n",
    "                    \n",
    "                    new_data.append(profile_data)\n",
    "            \n",
    "            else:\n",
    "                print(f\"Ошибка API для {row['profile_id']}: {response.status_code}\")\n",
    "            \n",
    "            time.sleep(1)\n",
    "            \n",
    "        except Exception as e:\n",
    "            print(f\"Ошибка при обработке профиля {row['profile_id']}: {str(e)}\")\n",
    "    \n",
    "    new_df = pd.DataFrame(new_data)\n",
    "    new_df.to_csv('profiles_with_current_positions.csv', index=False)\n",
    "    print(\"\\nДанные сохранены в 'profiles_with_current_positions.csv'\")\n",
    "    \n",
    "    return new_df\n",
    "\n",
    "result_df = process_profiles(df_tu_final_classification)"
   ]
  },
  {
   "cell_type": "code",
   "execution_count": 192,
   "metadata": {},
   "outputs": [
    {
     "data": {
      "text/plain": [
       "63"
      ]
     },
     "execution_count": 192,
     "metadata": {},
     "output_type": "execute_result"
    }
   ],
   "source": [
    "df = pd.read_csv('profiles_with_current_positions.csv')\n"
   ]
  },
  {
   "cell_type": "code",
   "execution_count": 198,
   "metadata": {},
   "outputs": [
    {
     "name": "stdout",
     "output_type": "stream",
     "text": [
      "Ошибка при обработке строки 20: 'float' object has no attribute 'lower'\n"
     ]
    }
   ],
   "source": [
    "\n",
    "rows_to_add = []  # Список для хранения строк\n",
    "\n",
    "for idx, row in df.iterrows():\n",
    "    try:\n",
    "        if 'stealth' in row['current_company'].lower():\n",
    "            rows_to_add.append(row)  # Добавляем строку в список\n",
    "    except Exception as e:\n",
    "        print(f\"Ошибка при обработке строки {idx}: {e}\")\n",
    "\n",
    "# Создаем новый DataFrame из списка\n",
    "new_df = pd.DataFrame(rows_to_add)"
   ]
  },
  {
   "cell_type": "code",
   "execution_count": 202,
   "metadata": {},
   "outputs": [],
   "source": [
    "new_df.to_csv('founders_in_stealth_companies.csv', index=False)\n",
    "    \n"
   ]
  },
  {
   "cell_type": "code",
   "execution_count": null,
   "metadata": {},
   "outputs": [],
   "source": []
  }
 ],
 "metadata": {
  "kernelspec": {
   "display_name": "venv",
   "language": "python",
   "name": "python3"
  },
  "language_info": {
   "codemirror_mode": {
    "name": "ipython",
    "version": 3
   },
   "file_extension": ".py",
   "mimetype": "text/x-python",
   "name": "python",
   "nbconvert_exporter": "python",
   "pygments_lexer": "ipython3",
   "version": "3.11.7"
  }
 },
 "nbformat": 4,
 "nbformat_minor": 2
}
